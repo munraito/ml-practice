{
 "cells": [
  {
   "cell_type": "markdown",
   "metadata": {
    "colab_type": "text",
    "id": "TgDsPMGcJw3E"
   },
   "source": [
    "##  Speed and Performance of GB libraries"
   ]
  },
  {
   "cell_type": "markdown",
   "metadata": {
    "colab_type": "text",
    "id": "90sMJXU5Jw3H"
   },
   "source": [
    "* [xgboost](https://anaconda.org/conda-forge/xgboost)\n",
    "* [lightgbm](https://anaconda.org/conda-forge/lightgbm)\n",
    "* [catboost](https://tech.yandex.com/catboost/doc/dg/concepts/python-installation-docpage/)"
   ]
  },
  {
   "cell_type": "markdown",
   "metadata": {
    "colab_type": "text",
    "id": "fe6SAuLVJw3I"
   },
   "source": [
    "We will be comparing the **training time** of the **GBDT**, the\n",
    "Gradient Boosted Decision Trees, as implemeted by different popular ML libraries.\n",
    "The dataset is the [UCI Breast Cancer dataset](https://archive.ics.uci.edu/ml/datasets/Breast+Cancer+Wisconsin+%28Diagnostic%29).\n",
    "\n",
    "\n",
    "The plan is as follows:\n",
    "1. Take the **default** parameter settings, measure the training time, and plot\n",
    "the ROC curves;\n",
    "2. Use grid search with the $3$-fold cross valiadation to choose the best model.\n",
    "Then measure the training time as a function of (separately) **tree depth** and **the\n",
    "number of estimators in the ensemble**, finally **plot the ROC** curves of the best\n",
    "models.\n"
   ]
  },
  {
   "cell_type": "markdown",
   "metadata": {
    "colab_type": "text",
    "id": "wMR8qd-BoBC3"
   },
   "source": [
    "## Imports and Data"
   ]
  },
  {
   "cell_type": "code",
   "execution_count": 5,
   "metadata": {
    "colab": {
     "base_uri": "https://localhost:8080/",
     "height": 343
    },
    "colab_type": "code",
    "executionInfo": {
     "elapsed": 16473,
     "status": "ok",
     "timestamp": 1590323739725,
     "user": {
      "displayName": "Виталий Цветков",
      "photoUrl": "https://lh3.googleusercontent.com/a-/AOh14GiIQfd3IzgVrpKUBUco_oznMQoxhNcthYkpbuyQJg=s64",
      "userId": "10199442936475267380"
     },
     "user_tz": -180
    },
    "id": "HcWG5UbsrhFN",
    "outputId": "dc128269-9d85-4b68-e1c1-d927048748ca"
   },
   "outputs": [
    {
     "name": "stdout",
     "output_type": "stream",
     "text": [
      "Collecting catboost\n",
      "\u001b[?25l  Downloading https://files.pythonhosted.org/packages/51/fb/6eddb2667ee55c39bd12ab6676c412726fcbc86e1c0364fda8e6c3a62bc3/catboost-0.23.1-cp36-none-manylinux1_x86_64.whl (64.7MB)\n",
      "\u001b[K     |████████████████████████████████| 64.7MB 58kB/s \n",
      "\u001b[?25hRequirement already satisfied: plotly in /usr/local/lib/python3.6/dist-packages (from catboost) (4.4.1)\n",
      "Requirement already satisfied: six in /usr/local/lib/python3.6/dist-packages (from catboost) (1.12.0)\n",
      "Requirement already satisfied: scipy in /usr/local/lib/python3.6/dist-packages (from catboost) (1.4.1)\n",
      "Requirement already satisfied: numpy>=1.16.0 in /usr/local/lib/python3.6/dist-packages (from catboost) (1.18.4)\n",
      "Requirement already satisfied: matplotlib in /usr/local/lib/python3.6/dist-packages (from catboost) (3.2.1)\n",
      "Requirement already satisfied: graphviz in /usr/local/lib/python3.6/dist-packages (from catboost) (0.10.1)\n",
      "Requirement already satisfied: pandas>=0.24.0 in /usr/local/lib/python3.6/dist-packages (from catboost) (1.0.3)\n",
      "Requirement already satisfied: retrying>=1.3.3 in /usr/local/lib/python3.6/dist-packages (from plotly->catboost) (1.3.3)\n",
      "Requirement already satisfied: python-dateutil>=2.1 in /usr/local/lib/python3.6/dist-packages (from matplotlib->catboost) (2.8.1)\n",
      "Requirement already satisfied: kiwisolver>=1.0.1 in /usr/local/lib/python3.6/dist-packages (from matplotlib->catboost) (1.2.0)\n",
      "Requirement already satisfied: pyparsing!=2.0.4,!=2.1.2,!=2.1.6,>=2.0.1 in /usr/local/lib/python3.6/dist-packages (from matplotlib->catboost) (2.4.7)\n",
      "Requirement already satisfied: cycler>=0.10 in /usr/local/lib/python3.6/dist-packages (from matplotlib->catboost) (0.10.0)\n",
      "Requirement already satisfied: pytz>=2017.2 in /usr/local/lib/python3.6/dist-packages (from pandas>=0.24.0->catboost) (2018.9)\n",
      "Installing collected packages: catboost\n",
      "Successfully installed catboost-0.23.1\n"
     ]
    }
   ],
   "source": [
    "!pip install catboost"
   ]
  },
  {
   "cell_type": "code",
   "execution_count": 0,
   "metadata": {
    "colab": {},
    "colab_type": "code",
    "id": "sS_cdwuNn9Kb"
   },
   "outputs": [],
   "source": [
    "from catboost import CatBoostClassifier\n",
    "from xgboost import XGBClassifier\n",
    "from lightgbm import LGBMClassifier\n",
    "from sklearn.model_selection import GridSearchCV\n",
    "import sklearn.metrics as metrics\n",
    "\n",
    "from sklearn.datasets import load_breast_cancer\n",
    "from sklearn.model_selection import train_test_split"
   ]
  },
  {
   "cell_type": "code",
   "execution_count": 3,
   "metadata": {
    "colab": {
     "base_uri": "https://localhost:8080/",
     "height": 34
    },
    "colab_type": "code",
    "executionInfo": {
     "elapsed": 506,
     "status": "ok",
     "timestamp": 1590339628359,
     "user": {
      "displayName": "Виталий Цветков",
      "photoUrl": "https://lh3.googleusercontent.com/a-/AOh14GiIQfd3IzgVrpKUBUco_oznMQoxhNcthYkpbuyQJg=s64",
      "userId": "10199442936475267380"
     },
     "user_tz": -180
    },
    "id": "OcIKZ4V-Jw3K",
    "outputId": "8bb5e24d-48d9-4234-cabc-451fa1e5d9f1"
   },
   "outputs": [
    {
     "data": {
      "text/plain": [
       "(569, 30)"
      ]
     },
     "execution_count": 3,
     "metadata": {
      "tags": []
     },
     "output_type": "execute_result"
    }
   ],
   "source": [
    "data = load_breast_cancer()\n",
    "X, y = data.data, data.target\n",
    "X_train, X_test, y_train, y_test = train_test_split(X, y, test_size=0.3,\n",
    "                                                    random_state=42)\n",
    "X.shape"
   ]
  },
  {
   "cell_type": "markdown",
   "metadata": {
    "colab_type": "text",
    "id": "-BeLqy6grvIb"
   },
   "source": [
    "## Let's find best parameters for every GB package"
   ]
  },
  {
   "cell_type": "markdown",
   "metadata": {
    "colab_type": "text",
    "id": "45cQwiUrWPqX"
   },
   "source": [
    "### CatBoost"
   ]
  },
  {
   "cell_type": "code",
   "execution_count": 0,
   "metadata": {
    "colab": {},
    "colab_type": "code",
    "id": "IFLDl9ZBYhNE"
   },
   "outputs": [],
   "source": [
    "def cb():\n",
    "  cb_params = {\n",
    "      'learning_rate': [0.01, 0.05, 0.1],\n",
    "      'depth': [3, 6, 9],\n",
    "      'l2_leaf_reg': [1, 3, 6],\n",
    "      'n_estimators': [20]\n",
    "  }\n",
    "  grid_search = GridSearchCV(CatBoostClassifier(logging_level = 'Silent'), cb_params,\n",
    "                              scoring='roc_auc', cv = 3, n_jobs=-1)\n",
    "\n",
    "  grid_search.fit(X_train, y_train)\n",
    "  cb_model = grid_search.best_estimator_\n",
    "\n",
    "  cb_model.fit(X_train, y_train)\n",
    "  cb_preds = cb_model.predict_proba(X_test)[:, 1]\n",
    "  return cb_model, cb_preds"
   ]
  },
  {
   "cell_type": "code",
   "execution_count": 6,
   "metadata": {
    "colab": {
     "base_uri": "https://localhost:8080/",
     "height": 119
    },
    "colab_type": "code",
    "executionInfo": {
     "elapsed": 38997,
     "status": "ok",
     "timestamp": 1590340171449,
     "user": {
      "displayName": "Виталий Цветков",
      "photoUrl": "https://lh3.googleusercontent.com/a-/AOh14GiIQfd3IzgVrpKUBUco_oznMQoxhNcthYkpbuyQJg=s64",
      "userId": "10199442936475267380"
     },
     "user_tz": -180
    },
    "id": "allTBaIViM-E",
    "outputId": "43b0c8d4-62c0-4064-d25e-90437e793206"
   },
   "outputs": [
    {
     "name": "stdout",
     "output_type": "stream",
     "text": [
      "CatBoost best params are:\n"
     ]
    },
    {
     "data": {
      "text/plain": [
       "{'depth': 9,\n",
       " 'l2_leaf_reg': 1,\n",
       " 'learning_rate': 0.01,\n",
       " 'logging_level': 'Silent',\n",
       " 'n_estimators': 20}"
      ]
     },
     "execution_count": 6,
     "metadata": {
      "tags": []
     },
     "output_type": "execute_result"
    }
   ],
   "source": [
    "cb_model , cb_preds = cb()\n",
    "print('CatBoost best params are:')\n",
    "cb_model.get_params()"
   ]
  },
  {
   "cell_type": "markdown",
   "metadata": {
    "colab_type": "text",
    "id": "Gevl0vW9WL6D"
   },
   "source": [
    "### XGBoost"
   ]
  },
  {
   "cell_type": "code",
   "execution_count": 0,
   "metadata": {
    "colab": {},
    "colab_type": "code",
    "id": "gWuhM-emr9B5"
   },
   "outputs": [],
   "source": [
    "def xgb():\n",
    "  xb_params = {\n",
    "      'learning_rate': [0.01, 0.05, 0.1],\n",
    "      'max_depth': [10, 30, 50],\n",
    "      'min_child_weight': [1, 3, 6],\n",
    "      'n_estimators': [20]\n",
    "  }\n",
    "  grid_search = GridSearchCV(XGBClassifier(), xb_params, \n",
    "                            scoring='roc_auc', cv = 3, n_jobs=-1)\n",
    "\n",
    "  grid_search.fit(X_train, y_train)\n",
    "  xb_model = grid_search.best_estimator_\n",
    "  xb_model.fit(X_train, y_train)\n",
    "  xb_preds = xb_model.predict_proba(X_test)[:, 1]\n",
    "  return xb_model, xb_preds"
   ]
  },
  {
   "cell_type": "code",
   "execution_count": 9,
   "metadata": {
    "colab": {
     "base_uri": "https://localhost:8080/",
     "height": 425
    },
    "colab_type": "code",
    "executionInfo": {
     "elapsed": 31910,
     "status": "ok",
     "timestamp": 1590340179824,
     "user": {
      "displayName": "Виталий Цветков",
      "photoUrl": "https://lh3.googleusercontent.com/a-/AOh14GiIQfd3IzgVrpKUBUco_oznMQoxhNcthYkpbuyQJg=s64",
      "userId": "10199442936475267380"
     },
     "user_tz": -180
    },
    "id": "c9OBbPwri4tp",
    "outputId": "3edfcf00-f8fb-4c91-a739-0384528abb54"
   },
   "outputs": [
    {
     "name": "stdout",
     "output_type": "stream",
     "text": [
      "XGBoost best params are:\n"
     ]
    },
    {
     "data": {
      "text/plain": [
       "{'base_score': 0.5,\n",
       " 'booster': 'gbtree',\n",
       " 'colsample_bylevel': 1,\n",
       " 'colsample_bynode': 1,\n",
       " 'colsample_bytree': 1,\n",
       " 'gamma': 0,\n",
       " 'learning_rate': 0.1,\n",
       " 'max_delta_step': 0,\n",
       " 'max_depth': 10,\n",
       " 'min_child_weight': 3,\n",
       " 'missing': None,\n",
       " 'n_estimators': 20,\n",
       " 'n_jobs': 1,\n",
       " 'nthread': None,\n",
       " 'objective': 'binary:logistic',\n",
       " 'random_state': 0,\n",
       " 'reg_alpha': 0,\n",
       " 'reg_lambda': 1,\n",
       " 'scale_pos_weight': 1,\n",
       " 'seed': None,\n",
       " 'silent': None,\n",
       " 'subsample': 1,\n",
       " 'verbosity': 1}"
      ]
     },
     "execution_count": 9,
     "metadata": {
      "tags": []
     },
     "output_type": "execute_result"
    }
   ],
   "source": [
    "xb_model, xb_preds = xgb()\n",
    "print('XGBoost best params are:')\n",
    "xb_model.get_params()"
   ]
  },
  {
   "cell_type": "markdown",
   "metadata": {
    "colab_type": "text",
    "id": "mZYZHKS4aw8L"
   },
   "source": [
    "### LightGBM"
   ]
  },
  {
   "cell_type": "code",
   "execution_count": 0,
   "metadata": {
    "colab": {},
    "colab_type": "code",
    "id": "qUdWlC4zgGIJ"
   },
   "outputs": [],
   "source": [
    "def lgbm():\n",
    "  lb_params = {\n",
    "      'learning_rate': [0.01, 0.05, 0.1],\n",
    "      'max_depth': [10, 30, 50],\n",
    "      'num_leaves': [300, 900, 1200],\n",
    "      'n_estimators': [20]\n",
    "  }\n",
    "  grid_search = GridSearchCV(LGBMClassifier(), lb_params, \n",
    "                            scoring='roc_auc', cv = 3, n_jobs=-1)\n",
    "\n",
    "  grid_search.fit(X_train, y_train)\n",
    "  lb_model = grid_search.best_estimator_\n",
    "  lb_model.fit(X_train, y_train)\n",
    "  lb_preds = lb_model.predict_proba(X_test)[:, 1]\n",
    "  return lb_model, lb_preds"
   ]
  },
  {
   "cell_type": "code",
   "execution_count": 12,
   "metadata": {
    "colab": {
     "base_uri": "https://localhost:8080/",
     "height": 374
    },
    "colab_type": "code",
    "executionInfo": {
     "elapsed": 33764,
     "status": "ok",
     "timestamp": 1590340191252,
     "user": {
      "displayName": "Виталий Цветков",
      "photoUrl": "https://lh3.googleusercontent.com/a-/AOh14GiIQfd3IzgVrpKUBUco_oznMQoxhNcthYkpbuyQJg=s64",
      "userId": "10199442936475267380"
     },
     "user_tz": -180
    },
    "id": "coq20QplfCzp",
    "outputId": "1c8cf717-d66d-4cea-889d-ed21003b52e3"
   },
   "outputs": [
    {
     "name": "stdout",
     "output_type": "stream",
     "text": [
      "LIghtGBM best params are:\n"
     ]
    },
    {
     "data": {
      "text/plain": [
       "{'boosting_type': 'gbdt',\n",
       " 'class_weight': None,\n",
       " 'colsample_bytree': 1.0,\n",
       " 'importance_type': 'split',\n",
       " 'learning_rate': 0.1,\n",
       " 'max_depth': 10,\n",
       " 'min_child_samples': 20,\n",
       " 'min_child_weight': 0.001,\n",
       " 'min_split_gain': 0.0,\n",
       " 'n_estimators': 20,\n",
       " 'n_jobs': -1,\n",
       " 'num_leaves': 300,\n",
       " 'objective': None,\n",
       " 'random_state': None,\n",
       " 'reg_alpha': 0.0,\n",
       " 'reg_lambda': 0.0,\n",
       " 'silent': True,\n",
       " 'subsample': 1.0,\n",
       " 'subsample_for_bin': 200000,\n",
       " 'subsample_freq': 0}"
      ]
     },
     "execution_count": 12,
     "metadata": {
      "tags": []
     },
     "output_type": "execute_result"
    }
   ],
   "source": [
    "lb_model, lb_preds = lgbm()\n",
    "print('LIghtGBM best params are:')\n",
    "lb_model.get_params()"
   ]
  },
  {
   "cell_type": "markdown",
   "metadata": {
    "colab_type": "text",
    "id": "kyV3sO6rjTV-"
   },
   "source": [
    "## Plotting ROC-AUCs"
   ]
  },
  {
   "cell_type": "code",
   "execution_count": 0,
   "metadata": {
    "colab": {},
    "colab_type": "code",
    "id": "ma5h9_kDUVKW"
   },
   "outputs": [],
   "source": [
    "def auc_params(preds):\n",
    "  fpr, tpr, _ = metrics.roc_curve(y_test, preds)\n",
    "  roc_auc = metrics.auc(fpr, tpr)\n",
    "  return fpr, tpr, roc_auc\n",
    "cb_auc = auc_params(cb_preds)\n",
    "xb_auc = auc_params(xb_preds)\n",
    "lb_auc = auc_params(lb_preds)"
   ]
  },
  {
   "cell_type": "code",
   "execution_count": 14,
   "metadata": {
    "colab": {
     "base_uri": "https://localhost:8080/",
     "height": 567
    },
    "colab_type": "code",
    "executionInfo": {
     "elapsed": 761,
     "status": "ok",
     "timestamp": 1590340301250,
     "user": {
      "displayName": "Виталий Цветков",
      "photoUrl": "https://lh3.googleusercontent.com/a-/AOh14GiIQfd3IzgVrpKUBUco_oznMQoxhNcthYkpbuyQJg=s64",
      "userId": "10199442936475267380"
     },
     "user_tz": -180
    },
    "id": "6f2yQHstfmte",
    "outputId": "91753c82-408c-4243-d1a2-6b8637500754"
   },
   "outputs": [
    {
     "data": {
      "image/png": "[encoded data removed]",
      "text/plain": [
       "<Figure size 864x648 with 1 Axes>"
      ]
     },
     "metadata": {
      "needs_background": "light",
      "tags": []
     },
     "output_type": "display_data"
    }
   ],
   "source": [
    "import matplotlib.pyplot as plt\n",
    "plt.figure(figsize=(12,9))\n",
    "plt.title('Receiver Operating Characteristic')\n",
    "plt.plot(cb_auc[0], cb_auc[1], 'b', label = 'CB = %0.3f' % cb_auc[2])\n",
    "plt.plot(xb_auc[0], xb_auc[1], 'r', label = 'XGB = %0.3f' % xb_auc[2])\n",
    "plt.plot(lb_auc[0], lb_auc[1], 'g', label = 'LGBM = %0.3f' % lb_auc[2])\n",
    "plt.legend(loc = 'lower right')\n",
    "plt.plot([0, 1], [0, 1],'r--')\n",
    "plt.xlim([0, 0.2])\n",
    "plt.ylim([0.65, 1])\n",
    "plt.ylabel('True Positive Rate')\n",
    "plt.xlabel('False Positive Rate')\n",
    "plt.show()"
   ]
  },
  {
   "cell_type": "markdown",
   "metadata": {
    "colab_type": "text",
    "id": "Rqhula5ypXYs"
   },
   "source": [
    "## Time of execution"
   ]
  },
  {
   "cell_type": "code",
   "execution_count": 5,
   "metadata": {
    "colab": {
     "base_uri": "https://localhost:8080/",
     "height": 34
    },
    "colab_type": "code",
    "executionInfo": {
     "elapsed": 150059,
     "status": "ok",
     "timestamp": 1590339830903,
     "user": {
      "displayName": "Виталий Цветков",
      "photoUrl": "https://lh3.googleusercontent.com/a-/AOh14GiIQfd3IzgVrpKUBUco_oznMQoxhNcthYkpbuyQJg=s64",
      "userId": "10199442936475267380"
     },
     "user_tz": -180
    },
    "id": "W8ucymsCiXE2",
    "outputId": "46e70a0f-f0a9-4743-e378-a39ca7206719"
   },
   "outputs": [
    {
     "name": "stdout",
     "output_type": "stream",
     "text": [
      "1 loop, best of 3: 36.8 s per loop\n"
     ]
    }
   ],
   "source": [
    "%%timeit\n",
    "cb()"
   ]
  },
  {
   "cell_type": "code",
   "execution_count": 8,
   "metadata": {
    "colab": {
     "base_uri": "https://localhost:8080/",
     "height": 34
    },
    "colab_type": "code",
    "executionInfo": {
     "elapsed": 31916,
     "status": "ok",
     "timestamp": 1590340177743,
     "user": {
      "displayName": "Виталий Цветков",
      "photoUrl": "https://lh3.googleusercontent.com/a-/AOh14GiIQfd3IzgVrpKUBUco_oznMQoxhNcthYkpbuyQJg=s64",
      "userId": "10199442936475267380"
     },
     "user_tz": -180
    },
    "id": "W2Sy_U5ijDdt",
    "outputId": "94f76f14-9b1e-4d68-83df-a2ec7a8c95b9"
   },
   "outputs": [
    {
     "name": "stdout",
     "output_type": "stream",
     "text": [
      "1 loop, best of 3: 1.52 s per loop\n"
     ]
    }
   ],
   "source": [
    "%%timeit\n",
    "xgb()"
   ]
  },
  {
   "cell_type": "code",
   "execution_count": 11,
   "metadata": {
    "colab": {
     "base_uri": "https://localhost:8080/",
     "height": 34
    },
    "colab_type": "code",
    "executionInfo": {
     "elapsed": 36271,
     "status": "ok",
     "timestamp": 1590340189547,
     "user": {
      "displayName": "Виталий Цветков",
      "photoUrl": "https://lh3.googleusercontent.com/a-/AOh14GiIQfd3IzgVrpKUBUco_oznMQoxhNcthYkpbuyQJg=s64",
      "userId": "10199442936475267380"
     },
     "user_tz": -180
    },
    "id": "JHmbsWb2bA_8",
    "outputId": "1eef48ec-47f6-4fd8-8471-d5a2f7e2e693"
   },
   "outputs": [
    {
     "name": "stdout",
     "output_type": "stream",
     "text": [
      "1 loop, best of 3: 2.29 s per loop\n"
     ]
    }
   ],
   "source": [
    "%%timeit\n",
    "lgbm()"
   ]
  },
  {
   "cell_type": "markdown",
   "metadata": {
    "colab_type": "text",
    "id": "7gYmcWW2o6qy"
   },
   "source": [
    "## Conclusion"
   ]
  },
  {
   "cell_type": "markdown",
   "metadata": {
    "colab_type": "text",
    "id": "y7okGt_so8ty"
   },
   "source": [
    "On this data, every model has shown an outstanding quality.\n",
    "\n",
    "> **LGBM** and **Catboost** have slightly better AUC than **XGB**\n",
    "\n",
    "> But **Catboost** is **~18x** slower than other packages \n",
    "\n",
    "Therefore, **LGBM** is the best choice in such scenario"
   ]
  }
 ],
 "metadata": {
  "colab": {
   "collapsed_sections": [],
   "name": "Copy of [hw]GradientBoostingTask2.ipynb",
   "provenance": [
    {
     "file_id": "1yZUxnrYzN_9CdlWxAA3Wm5HqgE0o6BwU",
     "timestamp": 1590314885388
    }
   ],
   "toc_visible": true
  },
  "kernelspec": {
   "display_name": "Python 3",
   "language": "python",
   "name": "python3"
  },
  "language_info": {
   "codemirror_mode": {
    "name": "ipython",
    "version": 3
   },
   "file_extension": ".py",
   "mimetype": "text/x-python",
   "name": "python",
   "nbconvert_exporter": "python",
   "pygments_lexer": "ipython3",
   "version": "3.7.3"
  }
 },
 "nbformat": 4,
 "nbformat_minor": 1
}
