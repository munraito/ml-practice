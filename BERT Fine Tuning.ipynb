{
 "cells": [
  {
   "cell_type": "markdown",
   "metadata": {
    "colab_type": "text",
    "id": "jNKaJz5j_ylj"
   },
   "source": [
    "##  Journey to BERT fine tunning"
   ]
  },
  {
   "cell_type": "markdown",
   "metadata": {
    "colab_type": "text",
    "id": "LWoAjDfwSy0W"
   },
   "source": [
    "Мы будем использовать нашумевшую архитектуру BERT из `transformers` библиотеки для решения задачи классификации русских твитов.\n",
    "\n",
    "Данные хранятся тут: https://study.mokoron.com/\n",
    "это важный датасет для русского комьюнити, содержащие позитивные и негативные твиты на русском языке."
   ]
  },
  {
   "cell_type": "code",
   "execution_count": 1,
   "metadata": {
    "colab": {
     "base_uri": "https://localhost:8080/",
     "height": 615
    },
    "colab_type": "code",
    "executionInfo": {
     "elapsed": 11071,
     "status": "ok",
     "timestamp": 1592665687676,
     "user": {
      "displayName": "Виталий Цветков",
      "photoUrl": "https://lh3.googleusercontent.com/a-/AOh14GiIQfd3IzgVrpKUBUco_oznMQoxhNcthYkpbuyQJg=s64",
      "userId": "10199442936475267380"
     },
     "user_tz": -180
    },
    "id": "0NmMdkZO8R6q",
    "outputId": "42c955d8-c829-4d87-8410-f482d8c268f8"
   },
   "outputs": [
    {
     "name": "stdout",
     "output_type": "stream",
     "text": [
      "Collecting transformers\n",
      "\u001b[?25l  Downloading https://files.pythonhosted.org/packages/48/35/ad2c5b1b8f99feaaf9d7cdadaeef261f098c6e1a6a2935d4d07662a6b780/transformers-2.11.0-py3-none-any.whl (674kB)\n",
      "\u001b[K     |████████████████████████████████| 675kB 3.5MB/s \n",
      "\u001b[?25hCollecting sentencepiece\n",
      "\u001b[?25l  Downloading https://files.pythonhosted.org/packages/d4/a4/d0a884c4300004a78cca907a6ff9a5e9fe4f090f5d95ab341c53d28cbc58/sentencepiece-0.1.91-cp36-cp36m-manylinux1_x86_64.whl (1.1MB)\n",
      "\u001b[K     |████████████████████████████████| 1.1MB 17.2MB/s \n",
      "\u001b[?25hRequirement already satisfied: filelock in /usr/local/lib/python3.6/dist-packages (from transformers) (3.0.12)\n",
      "Collecting sacremoses\n",
      "\u001b[?25l  Downloading https://files.pythonhosted.org/packages/7d/34/09d19aff26edcc8eb2a01bed8e98f13a1537005d31e95233fd48216eed10/sacremoses-0.0.43.tar.gz (883kB)\n",
      "\u001b[K     |████████████████████████████████| 890kB 24.9MB/s \n",
      "\u001b[?25hCollecting tokenizers==0.7.0\n",
      "\u001b[?25l  Downloading https://files.pythonhosted.org/packages/14/e5/a26eb4716523808bb0a799fcfdceb6ebf77a18169d9591b2f46a9adb87d9/tokenizers-0.7.0-cp36-cp36m-manylinux1_x86_64.whl (3.8MB)\n",
      "\u001b[K     |████████████████████████████████| 3.8MB 30.4MB/s \n",
      "\u001b[?25hRequirement already satisfied: requests in /usr/local/lib/python3.6/dist-packages (from transformers) (2.23.0)\n",
      "Requirement already satisfied: dataclasses; python_version < \"3.7\" in /usr/local/lib/python3.6/dist-packages (from transformers) (0.7)\n",
      "Requirement already satisfied: packaging in /usr/local/lib/python3.6/dist-packages (from transformers) (20.4)\n",
      "Requirement already satisfied: regex!=2019.12.17 in /usr/local/lib/python3.6/dist-packages (from transformers) (2019.12.20)\n",
      "Requirement already satisfied: numpy in /usr/local/lib/python3.6/dist-packages (from transformers) (1.18.5)\n",
      "Requirement already satisfied: tqdm>=4.27 in /usr/local/lib/python3.6/dist-packages (from transformers) (4.41.1)\n",
      "Requirement already satisfied: six in /usr/local/lib/python3.6/dist-packages (from sacremoses->transformers) (1.12.0)\n",
      "Requirement already satisfied: click in /usr/local/lib/python3.6/dist-packages (from sacremoses->transformers) (7.1.2)\n",
      "Requirement already satisfied: joblib in /usr/local/lib/python3.6/dist-packages (from sacremoses->transformers) (0.15.1)\n",
      "Requirement already satisfied: idna<3,>=2.5 in /usr/local/lib/python3.6/dist-packages (from requests->transformers) (2.9)\n",
      "Requirement already satisfied: chardet<4,>=3.0.2 in /usr/local/lib/python3.6/dist-packages (from requests->transformers) (3.0.4)\n",
      "Requirement already satisfied: certifi>=2017.4.17 in /usr/local/lib/python3.6/dist-packages (from requests->transformers) (2020.4.5.2)\n",
      "Requirement already satisfied: urllib3!=1.25.0,!=1.25.1,<1.26,>=1.21.1 in /usr/local/lib/python3.6/dist-packages (from requests->transformers) (1.24.3)\n",
      "Requirement already satisfied: pyparsing>=2.0.2 in /usr/local/lib/python3.6/dist-packages (from packaging->transformers) (2.4.7)\n",
      "Building wheels for collected packages: sacremoses\n",
      "  Building wheel for sacremoses (setup.py) ... \u001b[?25l\u001b[?25hdone\n",
      "  Created wheel for sacremoses: filename=sacremoses-0.0.43-cp36-none-any.whl size=893260 sha256=7f6860be26c2ea08c7efa1aa4ef18dcd307e4acf4f69b1422d3c8639b6e5b271\n",
      "  Stored in directory: /root/.cache/pip/wheels/29/3c/fd/7ce5c3f0666dab31a50123635e6fb5e19ceb42ce38d4e58f45\n",
      "Successfully built sacremoses\n",
      "Installing collected packages: sentencepiece, sacremoses, tokenizers, transformers\n",
      "Successfully installed sacremoses-0.0.43 sentencepiece-0.1.91 tokenizers-0.7.0 transformers-2.11.0\n"
     ]
    }
   ],
   "source": [
    "! pip install transformers"
   ]
  },
  {
   "cell_type": "code",
   "execution_count": 2,
   "metadata": {
    "colab": {
     "base_uri": "https://localhost:8080/",
     "height": 34
    },
    "colab_type": "code",
    "executionInfo": {
     "elapsed": 15365,
     "status": "ok",
     "timestamp": 1592665692870,
     "user": {
      "displayName": "Виталий Цветков",
      "photoUrl": "https://lh3.googleusercontent.com/a-/AOh14GiIQfd3IzgVrpKUBUco_oznMQoxhNcthYkpbuyQJg=s64",
      "userId": "10199442936475267380"
     },
     "user_tz": -180
    },
    "id": "Ok002ceNB8E7",
    "outputId": "317aa70c-b5d4-4ad6-b4e4-c66ed4ca8d7d"
   },
   "outputs": [
    {
     "name": "stderr",
     "output_type": "stream",
     "text": [
      "Using TensorFlow backend.\n"
     ]
    }
   ],
   "source": [
    "import torch\n",
    "from torch.utils.data import TensorDataset, DataLoader, RandomSampler, SequentialSampler\n",
    "from keras.preprocessing.sequence import pad_sequences\n",
    "from sklearn.model_selection import train_test_split\n",
    "from transformers import BertTokenizer, BertConfig\n",
    "from transformers import AdamW, BertForSequenceClassification\n",
    "from tqdm import tqdm, trange\n",
    "import pandas as pd\n",
    "import io\n",
    "import numpy as np\n",
    "from sklearn.metrics import accuracy_score\n",
    "from IPython.display import clear_output\n",
    "import matplotlib.pyplot as plt"
   ]
  },
  {
   "cell_type": "markdown",
   "metadata": {
    "colab_type": "text",
    "id": "t9k8ehEcSy0b"
   },
   "source": [
    "Этот ноутбук можно выполнить даже с помощью только CPU. "
   ]
  },
  {
   "cell_type": "code",
   "execution_count": 3,
   "metadata": {
    "colab": {
     "base_uri": "https://localhost:8080/",
     "height": 34
    },
    "colab_type": "code",
    "executionInfo": {
     "elapsed": 2154,
     "status": "ok",
     "timestamp": 1592665734787,
     "user": {
      "displayName": "Виталий Цветков",
      "photoUrl": "https://lh3.googleusercontent.com/a-/AOh14GiIQfd3IzgVrpKUBUco_oznMQoxhNcthYkpbuyQJg=s64",
      "userId": "10199442936475267380"
     },
     "user_tz": -180
    },
    "id": "oYsV4H8fCpZ-",
    "outputId": "28fce0dd-e360-45bd-8dd1-0f2fce551958"
   },
   "outputs": [
    {
     "name": "stdout",
     "output_type": "stream",
     "text": [
      "Using Tesla P100-PCIE-16GB GPUs\n"
     ]
    }
   ],
   "source": [
    "device = torch.device(\"cuda\" if torch.cuda.is_available() else \"cpu\")\n",
    "\n",
    "if device == torch.device('cpu'):\n",
    "    print('Using cpu')\n",
    "else:\n",
    "    n_gpu = torch.cuda.device_count()\n",
    "    print('Using {} GPUs'.format(torch.cuda.get_device_name(0)))"
   ]
  },
  {
   "cell_type": "markdown",
   "metadata": {
    "colab_type": "text",
    "id": "guw6ZNtaswKc"
   },
   "source": [
    "## Загрузка данных\n"
   ]
  },
  {
   "cell_type": "markdown",
   "metadata": {
    "colab_type": "text",
    "id": "CA7DjoCvSy0e"
   },
   "source": [
    "Мы выбрали не очень известный, необычный датасет с разметкой сентимента русскоязычных твитов (подробнее про него в [статье](http://www.swsys.ru/index.php?page=article&id=3962&lang=)). В корпусе, который мы использовали 114,911 положительных и 111,923 отрицательных записей. Загрузить его можно [тут](https://study.mokoron.com/)."
   ]
  },
  {
   "cell_type": "code",
   "execution_count": 4,
   "metadata": {
    "colab": {
     "base_uri": "https://localhost:8080/",
     "height": 122
    },
    "colab_type": "code",
    "executionInfo": {
     "elapsed": 34079,
     "status": "ok",
     "timestamp": 1592665778886,
     "user": {
      "displayName": "Виталий Цветков",
      "photoUrl": "https://lh3.googleusercontent.com/a-/AOh14GiIQfd3IzgVrpKUBUco_oznMQoxhNcthYkpbuyQJg=s64",
      "userId": "10199442936475267380"
     },
     "user_tz": -180
    },
    "id": "_a6D8XlAKhzE",
    "outputId": "9fad1d7e-dd3d-4f5b-d310-ce835df215e7"
   },
   "outputs": [
    {
     "name": "stdout",
     "output_type": "stream",
     "text": [
      "Go to this URL in a browser: https://accounts.google.com/o/oauth2/auth?client_id=947318989803-6bn6qk8qdgf4n4g3pfee6491hc0brc4i.apps.googleusercontent.com&redirect_uri=urn%3aietf%3awg%3aoauth%3a2.0%3aoob&response_type=code&scope=email%20https%3a%2f%2fwww.googleapis.com%2fauth%2fdocs.test%20https%3a%2f%2fwww.googleapis.com%2fauth%2fdrive%20https%3a%2f%2fwww.googleapis.com%2fauth%2fdrive.photos.readonly%20https%3a%2f%2fwww.googleapis.com%2fauth%2fpeopleapi.readonly\n",
      "\n",
      "Enter your authorization code:\n",
      "··········\n",
      "Mounted at /content/gdrive\n"
     ]
    }
   ],
   "source": [
    "from google.colab import drive\n",
    "drive.mount('/content/gdrive')"
   ]
  },
  {
   "cell_type": "code",
   "execution_count": 5,
   "metadata": {
    "colab": {},
    "colab_type": "code",
    "executionInfo": {
     "elapsed": 4407,
     "status": "ok",
     "timestamp": 1592665783364,
     "user": {
      "displayName": "Виталий Цветков",
      "photoUrl": "https://lh3.googleusercontent.com/a-/AOh14GiIQfd3IzgVrpKUBUco_oznMQoxhNcthYkpbuyQJg=s64",
      "userId": "10199442936475267380"
     },
     "user_tz": -180
    },
    "id": "jS0adMrWSy0f"
   },
   "outputs": [],
   "source": [
    "pos_texts = pd.read_csv('/content/gdrive/My Drive/RuTweetCorp/positive.csv', encoding='utf8', sep=';', header=None)\n",
    "neg_texts = pd.read_csv('/content/gdrive/My Drive/RuTweetCorp/negative.csv', encoding='utf8', sep=';', header=None)"
   ]
  },
  {
   "cell_type": "code",
   "execution_count": null,
   "metadata": {
    "colab": {
     "base_uri": "https://localhost:8080/",
     "height": 204
    },
    "colab_type": "code",
    "executionInfo": {
     "elapsed": 1247,
     "status": "ok",
     "timestamp": 1591556822665,
     "user": {
      "displayName": "Виталий Цветков",
      "photoUrl": "https://lh3.googleusercontent.com/a-/AOh14GiIQfd3IzgVrpKUBUco_oznMQoxhNcthYkpbuyQJg=s64",
      "userId": "10199442936475267380"
     },
     "user_tz": -180
    },
    "id": "mihsqRFbSy0h",
    "outputId": "db3aeb7a-a58d-4251-efed-d267c5ebfc1e",
    "scrolled": true
   },
   "outputs": [
    {
     "data": {
      "text/html": [
       "<div>\n",
       "<style scoped>\n",
       "    .dataframe tbody tr th:only-of-type {\n",
       "        vertical-align: middle;\n",
       "    }\n",
       "\n",
       "    .dataframe tbody tr th {\n",
       "        vertical-align: top;\n",
       "    }\n",
       "\n",
       "    .dataframe thead th {\n",
       "        text-align: right;\n",
       "    }\n",
       "</style>\n",
       "<table border=\"1\" class=\"dataframe\">\n",
       "  <thead>\n",
       "    <tr style=\"text-align: right;\">\n",
       "      <th></th>\n",
       "      <th>0</th>\n",
       "      <th>1</th>\n",
       "      <th>2</th>\n",
       "      <th>3</th>\n",
       "      <th>4</th>\n",
       "      <th>5</th>\n",
       "      <th>6</th>\n",
       "      <th>7</th>\n",
       "      <th>8</th>\n",
       "      <th>9</th>\n",
       "      <th>10</th>\n",
       "      <th>11</th>\n",
       "    </tr>\n",
       "  </thead>\n",
       "  <tbody>\n",
       "    <tr>\n",
       "      <th>75323</th>\n",
       "      <td>410645620597063680</td>\n",
       "      <td>1386740520</td>\n",
       "      <td>LinaAverinaa</td>\n",
       "      <td>RT @twiterskayabelk: @LinaAverinaa атлична а у...</td>\n",
       "      <td>1</td>\n",
       "      <td>0</td>\n",
       "      <td>1</td>\n",
       "      <td>0</td>\n",
       "      <td>9849</td>\n",
       "      <td>1063</td>\n",
       "      <td>967</td>\n",
       "      <td>2</td>\n",
       "    </tr>\n",
       "    <tr>\n",
       "      <th>19901</th>\n",
       "      <td>409409029161902081</td>\n",
       "      <td>1386445693</td>\n",
       "      <td>Luguitep</td>\n",
       "      <td>RT @Creative_Link: Иван Царевич и Серый Волк -...</td>\n",
       "      <td>1</td>\n",
       "      <td>0</td>\n",
       "      <td>944</td>\n",
       "      <td>0</td>\n",
       "      <td>51</td>\n",
       "      <td>0</td>\n",
       "      <td>195</td>\n",
       "      <td>0</td>\n",
       "    </tr>\n",
       "    <tr>\n",
       "      <th>10611</th>\n",
       "      <td>409289518509199360</td>\n",
       "      <td>1386417200</td>\n",
       "      <td>katy_velikanova</td>\n",
       "      <td>К мужчинам, у которых партнерша аппетитных фор...</td>\n",
       "      <td>1</td>\n",
       "      <td>0</td>\n",
       "      <td>0</td>\n",
       "      <td>0</td>\n",
       "      <td>15318</td>\n",
       "      <td>109</td>\n",
       "      <td>24</td>\n",
       "      <td>3</td>\n",
       "    </tr>\n",
       "    <tr>\n",
       "      <th>11971</th>\n",
       "      <td>409306865173274624</td>\n",
       "      <td>1386421335</td>\n",
       "      <td>mlerman23</td>\n",
       "      <td>@Aleksandrovna29 я люблю тебя мои новогодние ш...</td>\n",
       "      <td>1</td>\n",
       "      <td>0</td>\n",
       "      <td>0</td>\n",
       "      <td>0</td>\n",
       "      <td>2861</td>\n",
       "      <td>56</td>\n",
       "      <td>52</td>\n",
       "      <td>0</td>\n",
       "    </tr>\n",
       "    <tr>\n",
       "      <th>33676</th>\n",
       "      <td>409759927993769984</td>\n",
       "      <td>1386529354</td>\n",
       "      <td>unicorn_in_hell</td>\n",
       "      <td>@durashka_69 сладких снов ^_^ \\nдай обниму пер...</td>\n",
       "      <td>1</td>\n",
       "      <td>0</td>\n",
       "      <td>1</td>\n",
       "      <td>0</td>\n",
       "      <td>3353</td>\n",
       "      <td>563</td>\n",
       "      <td>947</td>\n",
       "      <td>0</td>\n",
       "    </tr>\n",
       "  </tbody>\n",
       "</table>\n",
       "</div>"
      ],
      "text/plain": [
       "                       0           1                2   ...    9    10  11\n",
       "75323  410645620597063680  1386740520     LinaAverinaa  ...  1063  967   2\n",
       "19901  409409029161902081  1386445693         Luguitep  ...     0  195   0\n",
       "10611  409289518509199360  1386417200  katy_velikanova  ...   109   24   3\n",
       "11971  409306865173274624  1386421335        mlerman23  ...    56   52   0\n",
       "33676  409759927993769984  1386529354  unicorn_in_hell  ...   563  947   0\n",
       "\n",
       "[5 rows x 12 columns]"
      ]
     },
     "execution_count": 14,
     "metadata": {
      "tags": []
     },
     "output_type": "execute_result"
    }
   ],
   "source": [
    "pos_texts.sample(5)"
   ]
  },
  {
   "cell_type": "code",
   "execution_count": null,
   "metadata": {
    "colab": {
     "base_uri": "https://localhost:8080/",
     "height": 204
    },
    "colab_type": "code",
    "executionInfo": {
     "elapsed": 671,
     "status": "ok",
     "timestamp": 1591556839117,
     "user": {
      "displayName": "Виталий Цветков",
      "photoUrl": "https://lh3.googleusercontent.com/a-/AOh14GiIQfd3IzgVrpKUBUco_oznMQoxhNcthYkpbuyQJg=s64",
      "userId": "10199442936475267380"
     },
     "user_tz": -180
    },
    "id": "X5PMUSnwLfWa",
    "outputId": "3d7a47e7-b7ee-4739-df5b-26d4f5e9ad6f"
   },
   "outputs": [
    {
     "data": {
      "text/html": [
       "<div>\n",
       "<style scoped>\n",
       "    .dataframe tbody tr th:only-of-type {\n",
       "        vertical-align: middle;\n",
       "    }\n",
       "\n",
       "    .dataframe tbody tr th {\n",
       "        vertical-align: top;\n",
       "    }\n",
       "\n",
       "    .dataframe thead th {\n",
       "        text-align: right;\n",
       "    }\n",
       "</style>\n",
       "<table border=\"1\" class=\"dataframe\">\n",
       "  <thead>\n",
       "    <tr style=\"text-align: right;\">\n",
       "      <th></th>\n",
       "      <th>0</th>\n",
       "      <th>1</th>\n",
       "      <th>2</th>\n",
       "      <th>3</th>\n",
       "      <th>4</th>\n",
       "      <th>5</th>\n",
       "      <th>6</th>\n",
       "      <th>7</th>\n",
       "      <th>8</th>\n",
       "      <th>9</th>\n",
       "      <th>10</th>\n",
       "      <th>11</th>\n",
       "    </tr>\n",
       "  </thead>\n",
       "  <tbody>\n",
       "    <tr>\n",
       "      <th>111446</th>\n",
       "      <td>425007010665345024</td>\n",
       "      <td>1390164542</td>\n",
       "      <td>Mr_Sanzharov</td>\n",
       "      <td>RT @Heilig_99: В вк нет этих фоооточек(((((</td>\n",
       "      <td>-1</td>\n",
       "      <td>0</td>\n",
       "      <td>1</td>\n",
       "      <td>0</td>\n",
       "      <td>38312</td>\n",
       "      <td>270</td>\n",
       "      <td>123</td>\n",
       "      <td>13</td>\n",
       "    </tr>\n",
       "    <tr>\n",
       "      <th>24130</th>\n",
       "      <td>411986287844159490</td>\n",
       "      <td>1387060160</td>\n",
       "      <td>ovygisysea</td>\n",
       "      <td>RT @upedodag: Блин, я неудачник. Подорвал попк...</td>\n",
       "      <td>-1</td>\n",
       "      <td>0</td>\n",
       "      <td>3</td>\n",
       "      <td>0</td>\n",
       "      <td>404</td>\n",
       "      <td>202</td>\n",
       "      <td>174</td>\n",
       "      <td>0</td>\n",
       "    </tr>\n",
       "    <tr>\n",
       "      <th>110469</th>\n",
       "      <td>424844481763241985</td>\n",
       "      <td>1390125792</td>\n",
       "      <td>James_Bond__47</td>\n",
       "      <td>как же хорошо дома, выходные прошли мимо меня,...</td>\n",
       "      <td>-1</td>\n",
       "      <td>0</td>\n",
       "      <td>0</td>\n",
       "      <td>0</td>\n",
       "      <td>2893</td>\n",
       "      <td>37</td>\n",
       "      <td>91</td>\n",
       "      <td>0</td>\n",
       "    </tr>\n",
       "    <tr>\n",
       "      <th>54203</th>\n",
       "      <td>415687348941496320</td>\n",
       "      <td>1387942561</td>\n",
       "      <td>KatYasnickaya</td>\n",
       "      <td>Срезовая по химии, контрольная по геометрии, т...</td>\n",
       "      <td>-1</td>\n",
       "      <td>0</td>\n",
       "      <td>0</td>\n",
       "      <td>0</td>\n",
       "      <td>957</td>\n",
       "      <td>33</td>\n",
       "      <td>18</td>\n",
       "      <td>0</td>\n",
       "    </tr>\n",
       "    <tr>\n",
       "      <th>86589</th>\n",
       "      <td>421147223812878336</td>\n",
       "      <td>1389244297</td>\n",
       "      <td>freedom1420</td>\n",
       "      <td>@madman19_89 вот это правильно\\nИ какую захоте...</td>\n",
       "      <td>-1</td>\n",
       "      <td>0</td>\n",
       "      <td>0</td>\n",
       "      <td>0</td>\n",
       "      <td>5943</td>\n",
       "      <td>198</td>\n",
       "      <td>101</td>\n",
       "      <td>0</td>\n",
       "    </tr>\n",
       "  </tbody>\n",
       "</table>\n",
       "</div>"
      ],
      "text/plain": [
       "                        0           1               2   ...   9    10  11\n",
       "111446  425007010665345024  1390164542    Mr_Sanzharov  ...  270  123  13\n",
       "24130   411986287844159490  1387060160      ovygisysea  ...  202  174   0\n",
       "110469  424844481763241985  1390125792  James_Bond__47  ...   37   91   0\n",
       "54203   415687348941496320  1387942561   KatYasnickaya  ...   33   18   0\n",
       "86589   421147223812878336  1389244297     freedom1420  ...  198  101   0\n",
       "\n",
       "[5 rows x 12 columns]"
      ]
     },
     "execution_count": 15,
     "metadata": {
      "tags": []
     },
     "output_type": "execute_result"
    }
   ],
   "source": [
    "neg_texts.sample(5)"
   ]
  },
  {
   "cell_type": "markdown",
   "metadata": {
    "colab_type": "text",
    "id": "mq7JErq7Sy0j"
   },
   "source": [
    "Разметка предложений для BERT: добавляем в начало и конец предложения токены [CLS] и [SEP]"
   ]
  },
  {
   "cell_type": "code",
   "execution_count": 6,
   "metadata": {
    "colab": {},
    "colab_type": "code",
    "executionInfo": {
     "elapsed": 1039,
     "status": "ok",
     "timestamp": 1592665797273,
     "user": {
      "displayName": "Виталий Цветков",
      "photoUrl": "https://lh3.googleusercontent.com/a-/AOh14GiIQfd3IzgVrpKUBUco_oznMQoxhNcthYkpbuyQJg=s64",
      "userId": "10199442936475267380"
     },
     "user_tz": -180
    },
    "id": "Nj6XKQD3Sy0j"
   },
   "outputs": [],
   "source": [
    "sentences = np.concatenate([pos_texts[3].values, neg_texts[3].values])\n",
    "\n",
    "sentences = ['[CLS] ' + sent + ' [SEP]' for sent in sentences]\n",
    "\n",
    "# correct labels\n",
    "labels = [[1] for _ in range(pos_texts.shape[0])] + [[0] for _ in range(neg_texts.shape[0])]\n"
   ]
  },
  {
   "cell_type": "code",
   "execution_count": null,
   "metadata": {
    "colab": {},
    "colab_type": "code",
    "id": "dxZ_I--TSy0l"
   },
   "outputs": [],
   "source": [
    "assert len(sentences) == len(labels) == pos_texts.shape[0] + neg_texts.shape[0]"
   ]
  },
  {
   "cell_type": "code",
   "execution_count": null,
   "metadata": {
    "colab": {
     "base_uri": "https://localhost:8080/",
     "height": 51
    },
    "colab_type": "code",
    "executionInfo": {
     "elapsed": 420,
     "status": "ok",
     "timestamp": 1591701665016,
     "user": {
      "displayName": "Виталий Цветков",
      "photoUrl": "https://lh3.googleusercontent.com/a-/AOh14GiIQfd3IzgVrpKUBUco_oznMQoxhNcthYkpbuyQJg=s64",
      "userId": "10199442936475267380"
     },
     "user_tz": -180
    },
    "id": "BO0Q_M7bSy0n",
    "outputId": "aa431036-d727-4d2c-9bc4-dfeb3d1704ff"
   },
   "outputs": [
    {
     "name": "stdout",
     "output_type": "stream",
     "text": [
      "[CLS] @jolechka3 получается,осторожно котлетку перекладываю в др.посуду) [SEP] [1]\n",
      "[CLS] @LizHorbenko я по-тихоньку, у меня сессия в самом разгаре, ненавижу экономику, мат.анализ и естествознание ;( [SEP] [0]\n"
     ]
    }
   ],
   "source": [
    "print(sentences[100], labels[100])\n",
    "print(sentences[-100], labels[-100])"
   ]
  },
  {
   "cell_type": "code",
   "execution_count": null,
   "metadata": {
    "colab": {},
    "colab_type": "code",
    "id": "jh7g4QZfSy0o"
   },
   "outputs": [],
   "source": [
    "from sklearn.model_selection import train_test_split\n",
    "\n",
    "train_sentences, test_sentences, train_gt, test_gt = train_test_split(sentences, labels, test_size=0.3)"
   ]
  },
  {
   "cell_type": "code",
   "execution_count": null,
   "metadata": {
    "colab": {
     "base_uri": "https://localhost:8080/",
     "height": 34
    },
    "colab_type": "code",
    "executionInfo": {
     "elapsed": 506,
     "status": "ok",
     "timestamp": 1591608660750,
     "user": {
      "displayName": "Виталий Цветков",
      "photoUrl": "https://lh3.googleusercontent.com/a-/AOh14GiIQfd3IzgVrpKUBUco_oznMQoxhNcthYkpbuyQJg=s64",
      "userId": "10199442936475267380"
     },
     "user_tz": -180
    },
    "id": "LLMzSRSsSy0r",
    "outputId": "57e5594d-dcf7-4011-a240-549d63accf7d"
   },
   "outputs": [
    {
     "name": "stdout",
     "output_type": "stream",
     "text": [
      "158783 68051\n"
     ]
    }
   ],
   "source": [
    "print(len(train_gt), len(test_gt))"
   ]
  },
  {
   "cell_type": "markdown",
   "metadata": {
    "colab_type": "text",
    "id": "ex5O1eV-Pfct"
   },
   "source": [
    "## Inputs"
   ]
  },
  {
   "cell_type": "markdown",
   "metadata": {
    "colab_type": "text",
    "id": "BTREubVNFiz4"
   },
   "source": [
    "Теперь импортируем токенизатор для BERT'а, который превратит наши тексты в набор токенов, соответствующих тем, что встречаются в словаре предобученной модели."
   ]
  },
  {
   "cell_type": "code",
   "execution_count": null,
   "metadata": {
    "colab": {
     "base_uri": "https://localhost:8080/",
     "height": 137,
     "referenced_widgets": [
      "be6a3e1bcd7d43bba02f5fe905774d58",
      "5a8e8e8633de44298d1d52d121f6a447",
      "d85209a1c6974e52b01ee17ca8ebc34a",
      "25ded3d6c0394ffba1440486f460fa00",
      "2fa23831195b4038aac897ebe9332b44",
      "ca4d8704b81a497a87e2b0b02b9470bc",
      "14ec253270e0485796c0c2cad2a0f6ac",
      "12ed45b83aea4f0ea8e83d2f61b0651b"
     ]
    },
    "colab_type": "code",
    "executionInfo": {
     "elapsed": 82639,
     "status": "ok",
     "timestamp": 1591884651354,
     "user": {
      "displayName": "Виталий Цветков",
      "photoUrl": "https://lh3.googleusercontent.com/a-/AOh14GiIQfd3IzgVrpKUBUco_oznMQoxhNcthYkpbuyQJg=s64",
      "userId": "10199442936475267380"
     },
     "user_tz": -180
    },
    "id": "Z474sSC6oe7A",
    "outputId": "d7ea00de-836e-4660-be5f-abf820386993"
   },
   "outputs": [
    {
     "data": {
      "application/vnd.jupyter.widget-view+json": {
       "model_id": "be6a3e1bcd7d43bba02f5fe905774d58",
       "version_major": 2,
       "version_minor": 0
      },
      "text/plain": [
       "HBox(children=(FloatProgress(value=0.0, description='Downloading', max=231508.0, style=ProgressStyle(descripti…"
      ]
     },
     "metadata": {
      "tags": []
     },
     "output_type": "display_data"
    },
    {
     "name": "stdout",
     "output_type": "stream",
     "text": [
      "\n",
      "['[CLS]', '@', 'ali', '##nam', '##ary', '##sia', '##a', '##9', '##6', 'э', '##э', '##э', '##и', '!', '!', '!', '!', 'а', 'к', '##а', '##к', 'ж', '##е', 'я', '?', '?', 'з', '##а', '##б', '##ы', '##л', '##а', 'у', '##ж', '##е', 'п', '##р', '##о', 'л', '##у', '##ч', '##ш', '##у', '##ю', 'п', '##о', '##д', '##р', '##у', '##г', '##у', '(', '(', '(', '(', '(', '(', '(', '(', '(', '[SEP]']\n",
      "CPU times: user 1min 19s, sys: 635 ms, total: 1min 20s\n",
      "Wall time: 1min 21s\n"
     ]
    }
   ],
   "source": [
    "%%time\n",
    "from transformers import BertTokenizer, BertConfig\n",
    "\n",
    "tokenizer = BertTokenizer.from_pretrained('bert-base-uncased', do_lower_case=True)\n",
    "\n",
    "tokenized_texts = [tokenizer.tokenize(sent) for sent in train_sentences] #sentences\n",
    "print(tokenized_texts[0])"
   ]
  },
  {
   "cell_type": "code",
   "execution_count": null,
   "metadata": {
    "colab": {
     "base_uri": "https://localhost:8080/",
     "height": 34
    },
    "colab_type": "code",
    "executionInfo": {
     "elapsed": 744,
     "status": "ok",
     "timestamp": 1591612869691,
     "user": {
      "displayName": "Виталий Цветков",
      "photoUrl": "https://lh3.googleusercontent.com/a-/AOh14GiIQfd3IzgVrpKUBUco_oznMQoxhNcthYkpbuyQJg=s64",
      "userId": "10199442936475267380"
     },
     "user_tz": -180
    },
    "id": "XveaM5sUSqdY",
    "outputId": "93889512-8f65-463f-ff99-336d11470c6c"
   },
   "outputs": [
    {
     "data": {
      "text/plain": [
       "'[CLS] Как доказать девушке,что я ее люблю? — Не знааю, все девушки разные:) кто-то и так верит:3 http://t.co/dGyMSvOArj [SEP]'"
      ]
     },
     "execution_count": 35,
     "metadata": {
      "tags": []
     },
     "output_type": "execute_result"
    }
   ],
   "source": [
    "train_sentences[0]"
   ]
  },
  {
   "cell_type": "markdown",
   "metadata": {
    "colab_type": "text",
    "id": "87_kXUeT2-br"
   },
   "source": [
    "BERT'у нужно предоставить специальный формат входных данных.\n",
    "\n",
    "\n",
    "- **input ids**: последовательность чисел, отождествляющих каждый токен с его номером в словаре.\n",
    "- **labels**: вектор из нулей и единиц. В нашем случае нули обозначают негативную эмоциональную окраску, единицы - положительную.\n",
    "- **segment mask**: (необязательно) последовательность нулей и единиц, которая показывает, состоит ли входной текст из одного или двух предложений. Для случая одного предложения получится вектор из одних нулей. Для двух: <length_of_sent_1> нулей и <length_of_sent_2> единиц.\n",
    "- **attention mask**: (необязательно) последовательность нулей и единиц, где единицы обозначают токены предложения, нули - паддинг."
   ]
  },
  {
   "cell_type": "markdown",
   "metadata": {
    "colab_type": "text",
    "id": "K7wEFPgASy0w"
   },
   "source": [
    "Паддинг нужен для того, чтобы BERT мог работать с предложениями разной длины. Выбираем максимально возможную длину предложения (в нашем случае пусть это будет 100). \n",
    "\n",
    "Теперь более длинные предложения будем обрезать до 100 токенов, а для более коротких использовать паддинг. Возьмем готовую функцию `pad_sequences` из библиотеки `keras`.\n",
    "\n"
   ]
  },
  {
   "cell_type": "code",
   "execution_count": null,
   "metadata": {
    "colab": {
     "base_uri": "https://localhost:8080/",
     "height": 51
    },
    "colab_type": "code",
    "executionInfo": {
     "elapsed": 95844,
     "status": "ok",
     "timestamp": 1591884672286,
     "user": {
      "displayName": "Виталий Цветков",
      "photoUrl": "https://lh3.googleusercontent.com/a-/AOh14GiIQfd3IzgVrpKUBUco_oznMQoxhNcthYkpbuyQJg=s64",
      "userId": "10199442936475267380"
     },
     "user_tz": -180
    },
    "id": "Cp9BPRd1tMIo",
    "outputId": "d7dddf77-d793-4809-d2de-686fb527da30"
   },
   "outputs": [
    {
     "name": "stdout",
     "output_type": "stream",
     "text": [
      "CPU times: user 20.5 s, sys: 366 ms, total: 20.9 s\n",
      "Wall time: 20.9 s\n"
     ]
    }
   ],
   "source": [
    "%%time\n",
    "input_ids = [ tokenizer.convert_tokens_to_ids(x) for x in tokenized_texts]\n",
    "\n",
    "# padding\n",
    "input_ids = pad_sequences(\n",
    "    input_ids,\n",
    "    maxlen=100,\n",
    "    dtype=\"long\",\n",
    "    truncating=\"post\",\n",
    "    padding=\"post\"\n",
    ")\n",
    "\n",
    "attention_masks = [[float(i>0) for i in seq] for seq in input_ids]"
   ]
  },
  {
   "cell_type": "markdown",
   "metadata": {
    "colab_type": "text",
    "id": "MFcnbPPwSy0y"
   },
   "source": [
    "Делим данные на `train` и `val`:"
   ]
  },
  {
   "cell_type": "code",
   "execution_count": null,
   "metadata": {
    "colab": {},
    "colab_type": "code",
    "id": "aFbE-UHvsb7-"
   },
   "outputs": [],
   "source": [
    "train_inputs, validation_inputs, train_labels, validation_labels = train_test_split(\n",
    "    input_ids, train_gt, \n",
    "    random_state=42,\n",
    "    test_size=0.1\n",
    ")\n",
    "\n",
    "train_masks, validation_masks, _, _ = train_test_split(\n",
    "    attention_masks,\n",
    "    input_ids,\n",
    "    random_state=42,\n",
    "    test_size=0.1\n",
    ")"
   ]
  },
  {
   "cell_type": "markdown",
   "metadata": {
    "colab_type": "text",
    "id": "HHqQCIhhSy00"
   },
   "source": [
    "Преобразуем данные в `pytorch` тензоры:"
   ]
  },
  {
   "cell_type": "code",
   "execution_count": null,
   "metadata": {
    "colab": {},
    "colab_type": "code",
    "id": "jw5K2A5Ko1RF"
   },
   "outputs": [],
   "source": [
    "train_inputs = torch.tensor(train_inputs)\n",
    "train_labels = torch.tensor(train_labels)\n",
    "train_masks = torch.tensor(train_masks)"
   ]
  },
  {
   "cell_type": "code",
   "execution_count": null,
   "metadata": {
    "colab": {},
    "colab_type": "code",
    "id": "Ge3A6OxjSy02"
   },
   "outputs": [],
   "source": [
    "validation_inputs = torch.tensor(validation_inputs)\n",
    "validation_labels = torch.tensor(validation_labels)\n",
    "validation_masks = torch.tensor(validation_masks)"
   ]
  },
  {
   "cell_type": "markdown",
   "metadata": {
    "colab_type": "text",
    "id": "KMVQgGAKSy06"
   },
   "source": [
    "Воспользуемся классом `DataLoader`. Это поможет нам использовать эффективнее память во время тренировки модели, так как нам не нужно будет загружать в память весь датасет. Данные по батчам будем разбивать произвольно с помощью RandomSampler. Также обратите внимание на размер батча: если во время тренировки возникнет `Memory Error`, размер батча необходимо уменьшить."
   ]
  },
  {
   "cell_type": "markdown",
   "metadata": {
    "colab_type": "text",
    "id": "pNl8khAhPYju"
   },
   "source": [
    "## Обучение модели"
   ]
  },
  {
   "cell_type": "markdown",
   "metadata": {
    "colab_type": "text",
    "id": "0fNT00YlSy1D"
   },
   "source": [
    "Загружаем [BertForSequenceClassification](https://github.com/huggingface/pytorch-pretrained-BERT/blob/master/pytorch_pretrained_bert/modeling.py#L1129):"
   ]
  },
  {
   "cell_type": "code",
   "execution_count": null,
   "metadata": {
    "colab": {},
    "colab_type": "code",
    "id": "ONZbdozUSy1D"
   },
   "outputs": [],
   "source": [
    "from transformers import AdamW, BertForSequenceClassification"
   ]
  },
  {
   "cell_type": "markdown",
   "metadata": {
    "colab_type": "text",
    "id": "WnQW9E-bBCRt"
   },
   "source": [
    "Загружаем BERT. `bert-base-uncased` - это версия \"base\" (в оригинальной статье рассказывается про две модели: \"base\" vs \"large\"), где есть только буквы в нижнем регистре (\"uncased\")."
   ]
  },
  {
   "cell_type": "code",
   "execution_count": null,
   "metadata": {
    "colab": {
     "base_uri": "https://localhost:8080/",
     "height": 166,
     "referenced_widgets": [
      "8112bb3b96d6429f82d2d0b47d698b78",
      "3f81591bf9ff466592ed3bacd9651619",
      "392947bdeccd4ab381d7d35ad0b13294",
      "571124775f754533bde6a500c58d08f8",
      "cfe55962c0444d3fb49a2ff30aa9f6d2",
      "bd3f1ed734f045949f499fd71b1b9366",
      "c462b1f980c44f919477bb8e512bff59",
      "91a8e64e4b024280a63a4790d84a29a4",
      "a3aa5c52dae3455b899981278943a61e",
      "49a4b4b939e04c109b881c23fbc8ce3a",
      "e1927ba4161b4178b428129b41b3ea2f",
      "e1f4deacb8774d32bf971b0dd26a105d",
      "6b97bec2c083491094ad1165fe8f6308",
      "6265b60628e4421e9fb75695bfb9ed17",
      "5c188516679b40b88496ddfaa5944cc8",
      "92938b456b5842c68bf26a8f22170c6a"
     ]
    },
    "colab_type": "code",
    "executionInfo": {
     "elapsed": 27571,
     "status": "ok",
     "timestamp": 1591702716298,
     "user": {
      "displayName": "Виталий Цветков",
      "photoUrl": "https://lh3.googleusercontent.com/a-/AOh14GiIQfd3IzgVrpKUBUco_oznMQoxhNcthYkpbuyQJg=s64",
      "userId": "10199442936475267380"
     },
     "user_tz": -180
    },
    "id": "gFsCTp_mporB",
    "outputId": "7a3a82ee-a7df-480f-f23b-e87ac826164e"
   },
   "outputs": [
    {
     "data": {
      "application/vnd.jupyter.widget-view+json": {
       "model_id": "8112bb3b96d6429f82d2d0b47d698b78",
       "version_major": 2,
       "version_minor": 0
      },
      "text/plain": [
       "HBox(children=(FloatProgress(value=0.0, description='Downloading', max=433.0, style=ProgressStyle(description_…"
      ]
     },
     "metadata": {
      "tags": []
     },
     "output_type": "display_data"
    },
    {
     "name": "stdout",
     "output_type": "stream",
     "text": [
      "\n"
     ]
    },
    {
     "data": {
      "application/vnd.jupyter.widget-view+json": {
       "model_id": "a3aa5c52dae3455b899981278943a61e",
       "version_major": 2,
       "version_minor": 0
      },
      "text/plain": [
       "HBox(children=(FloatProgress(value=0.0, description='Downloading', max=440473133.0, style=ProgressStyle(descri…"
      ]
     },
     "metadata": {
      "tags": []
     },
     "output_type": "display_data"
    },
    {
     "name": "stdout",
     "output_type": "stream",
     "text": [
      "\n",
      "1\n",
      "CPU times: user 12.6 s, sys: 2.71 s, total: 15.3 s\n",
      "Wall time: 27 s\n"
     ]
    }
   ],
   "source": [
    "%%time\n",
    "model = BertForSequenceClassification.from_pretrained(\"bert-base-uncased\", num_labels=2)\n",
    "model.to(device)\n",
    "print(1)"
   ]
  },
  {
   "cell_type": "markdown",
   "metadata": {
    "colab_type": "text",
    "id": "EIiE6-wlSy1K"
   },
   "source": [
    "### Обучение\n",
    "Теперь обсудим гиперпараметры для обучения нашей модели. Авторы статьи советуют выбирать `learning rate` `5e-5`, `3e-5`, `2e-5`, а количество эпох не делать слишком большим, 2-4 вполне достаточно. Мы пойдем еще дальше и попробуем дообучить нашу модель всего за одну эпоху."
   ]
  },
  {
   "cell_type": "code",
   "execution_count": null,
   "metadata": {
    "colab": {},
    "colab_type": "code",
    "id": "QxSMw0FrptiL"
   },
   "outputs": [],
   "source": [
    "param_optimizer = list(model.named_parameters())\n",
    "no_decay = ['bias', 'gamma', 'beta']\n",
    "optimizer_grouped_parameters = [\n",
    "    {'params': [p for n, p in param_optimizer if not any(nd in n for nd in no_decay)],\n",
    "     'weight_decay_rate': 0.01},\n",
    "    {'params': [p for n, p in param_optimizer if any(nd in n for nd in no_decay)],\n",
    "     'weight_decay_rate': 0.0}\n",
    "]\n",
    "\n",
    "optimizer = AdamW(optimizer_grouped_parameters, lr=2e-5)"
   ]
  },
  {
   "cell_type": "code",
   "execution_count": null,
   "metadata": {
    "colab": {},
    "colab_type": "code",
    "id": "GEgLpFVlo1Z-"
   },
   "outputs": [],
   "source": [
    "train_data = TensorDataset(train_inputs, train_masks, train_labels)\n",
    "train_dataloader = DataLoader(train_data, sampler=RandomSampler(train_data), batch_size=1024 )"
   ]
  },
  {
   "cell_type": "code",
   "execution_count": null,
   "metadata": {
    "colab": {},
    "colab_type": "code",
    "id": "6UiqKs4VSy0_"
   },
   "outputs": [],
   "source": [
    "validation_data = TensorDataset(validation_inputs, validation_masks, validation_labels)\n",
    "validation_dataloader = DataLoader(validation_data, sampler=RandomSampler(validation_data), batch_size=1024 )"
   ]
  },
  {
   "cell_type": "code",
   "execution_count": null,
   "metadata": {
    "colab": {
     "base_uri": "https://localhost:8080/",
     "height": 526
    },
    "colab_type": "code",
    "executionInfo": {
     "elapsed": 3224747,
     "status": "error",
     "timestamp": 1591654639448,
     "user": {
      "displayName": "Виталий Цветков",
      "photoUrl": "https://lh3.googleusercontent.com/a-/AOh14GiIQfd3IzgVrpKUBUco_oznMQoxhNcthYkpbuyQJg=s64",
      "userId": "10199442936475267380"
     },
     "user_tz": -180
    },
    "id": "6J-FYdx6nFE_",
    "outputId": "c8ac8929-ae03-46f8-a8fb-9696376164c0"
   },
   "outputs": [
    {
     "data": {
      "image/png": "[encoded data removed]",
      "text/plain": [
       "<Figure size 432x288 with 1 Axes>"
      ]
     },
     "metadata": {
      "needs_background": "light",
      "tags": []
     },
     "output_type": "display_data"
    },
    {
     "name": "stdout",
     "output_type": "stream",
     "text": [
      "Loss на обучающей выборке: 0.03152\n"
     ]
    },
    {
     "ename": "AttributeError",
     "evalue": "ignored",
     "output_type": "error",
     "traceback": [
      "\u001b[0;31m---------------------------------------------------------------------------\u001b[0m",
      "\u001b[0;31mAttributeError\u001b[0m                            Traceback (most recent call last)",
      "\u001b[0;32m<ipython-input-30-306511e750f3>\u001b[0m in \u001b[0;36m<module>\u001b[0;34m()\u001b[0m\n\u001b[1;32m     49\u001b[0m \u001b[0;32mfor\u001b[0m \u001b[0mbatch\u001b[0m \u001b[0;32min\u001b[0m \u001b[0mvalidation_dataloader\u001b[0m\u001b[0;34m:\u001b[0m\u001b[0;34m\u001b[0m\u001b[0;34m\u001b[0m\u001b[0m\n\u001b[1;32m     50\u001b[0m     \u001b[0;31m# добавляем батч для вычисления на GPU\u001b[0m\u001b[0;34m\u001b[0m\u001b[0;34m\u001b[0m\u001b[0;34m\u001b[0m\u001b[0m\n\u001b[0;32m---> 51\u001b[0;31m     \u001b[0mbatch\u001b[0m\u001b[0;34m.\u001b[0m\u001b[0mto\u001b[0m\u001b[0;34m(\u001b[0m\u001b[0mdevice\u001b[0m\u001b[0;34m)\u001b[0m\u001b[0;34m\u001b[0m\u001b[0;34m\u001b[0m\u001b[0m\n\u001b[0m\u001b[1;32m     52\u001b[0m     \u001b[0;31m# Распаковываем данные из dataloader\u001b[0m\u001b[0;34m\u001b[0m\u001b[0;34m\u001b[0m\u001b[0;34m\u001b[0m\u001b[0m\n\u001b[1;32m     53\u001b[0m     \u001b[0mval_inputs\u001b[0m\u001b[0;34m,\u001b[0m \u001b[0mval_mask\u001b[0m\u001b[0;34m,\u001b[0m \u001b[0mval_labels\u001b[0m \u001b[0;34m=\u001b[0m \u001b[0mbatch\u001b[0m\u001b[0;34m\u001b[0m\u001b[0;34m\u001b[0m\u001b[0m\n",
      "\u001b[0;31mAttributeError\u001b[0m: 'list' object has no attribute 'to'"
     ]
    }
   ],
   "source": [
    "#%%time\n",
    "from IPython.display import clear_output\n",
    "\n",
    "# Будем сохранять loss во время обучения\n",
    "# и рисовать график в режиме реального времени\n",
    "train_loss_set = []\n",
    "train_loss = 0\n",
    "\n",
    "\n",
    "# Обучение\n",
    "# Переводим модель в training mode\n",
    "model.train()\n",
    "\n",
    "\n",
    "for step, batch in enumerate(train_dataloader):\n",
    "    # добавляем батч для вычисления на GPU\n",
    "    batch = tuple(t.to(device) for t in batch)\n",
    "    # Распаковываем данные из dataloader\n",
    "    train_inputs, train_mask, train_labels = batch\n",
    "    # если не сделать .zero_grad(), градиенты будут накапливаться\n",
    "    optimizer.zero_grad()\n",
    "    # Forward pass\n",
    "    loss = model(train_inputs, attention_mask=train_mask, token_type_ids=None, labels=train_labels)[0]\n",
    "    print (loss)\n",
    "    train_loss_set.append(loss)\n",
    "    # Backward pass\n",
    "    loss.backward()\n",
    "    # Обновляем параметры и делаем шаг используя посчитанные градиенты\n",
    "    optimizer.step()\n",
    "    # Обновляем loss\n",
    "    train_loss += loss\n",
    "    # Рисуем график\n",
    "    clear_output(True)\n",
    "    plt.plot(train_loss_set)\n",
    "    plt.title(\"Training loss\")\n",
    "    plt.xlabel(\"Batch\")\n",
    "    plt.ylabel(\"Loss\")\n",
    "    plt.show()\n",
    "    \n",
    "print(\"Loss на обучающей выборке: {0:.5f}\".format(train_loss / len(train_dataloader)))\n",
    "\n",
    "\n",
    "# Валидация\n",
    "# Переводим модель в evaluation mode\n",
    "model.eval()\n",
    "\n",
    "valid_preds, valid_labels = [], []\n",
    "\n",
    "for batch in validation_dataloader:   \n",
    "    # добавляем батч для вычисления на GPU\n",
    "    batch = tuple(t.to(device) for t in batch)\n",
    "    # Распаковываем данные из dataloader\n",
    "    val_inputs, val_mask, val_labels = batch\n",
    "    # При использовании .no_grad() модель не будет считать и хранить градиенты.\n",
    "    # Это ускорит процесс предсказания меток для валидационных данных.\n",
    "    with torch.no_grad():\n",
    "        logits = model(val_inputs, token_type_ids=None, attention_mask=val_mask) \n",
    "    # Перемещаем logits и метки классов на CPU для дальнейшей работы\n",
    "    logits = logits.detach().cpu().numpy()\n",
    "    label_ids = val_labels.to('cpu').numpy()\n",
    "    \n",
    "    batch_preds = np.argmax(logits, axis=1)\n",
    "    batch_labels = np.concatenate(label_ids)     \n",
    "    valid_preds.extend(batch_preds)\n",
    "    valid_labels.extend(batch_labels)\n",
    "\n",
    "    print(\"Процент правильных предсказаний на валидационной выборке: {0:.2f}%\".format(\n",
    "        accuracy_score(valid_labels, valid_preds) * 100\n",
    "    ))"
   ]
  },
  {
   "cell_type": "code",
   "execution_count": null,
   "metadata": {
    "colab": {
     "base_uri": "https://localhost:8080/",
     "height": 68
    },
    "colab_type": "code",
    "executionInfo": {
     "elapsed": 269,
     "status": "ok",
     "timestamp": 1591654902214,
     "user": {
      "displayName": "Виталий Цветков",
      "photoUrl": "https://lh3.googleusercontent.com/a-/AOh14GiIQfd3IzgVrpKUBUco_oznMQoxhNcthYkpbuyQJg=s64",
      "userId": "10199442936475267380"
     },
     "user_tz": -180
    },
    "id": "W8ZlE7RMAsFP",
    "outputId": "bf1c2c17-5f24-488e-ec99-0b9c5823b4b3"
   },
   "outputs": [
    {
     "name": "stdout",
     "output_type": "stream",
     "text": [
      "Процент правильных предсказаний на валидационной выборке: 98.14%\n",
      "CPU times: user 33.7 s, sys: 13.9 s, total: 47.6 s\n",
      "Wall time: 47.6 s\n"
     ]
    }
   ],
   "source": [
    "%%time\n",
    "# Валидация\n",
    "# Переводим модель в evaluation mode\n",
    "model.eval()\n",
    "\n",
    "valid_preds, valid_labels = [], []\n",
    "\n",
    "for batch in validation_dataloader:   \n",
    "    # добавляем батч для вычисления на GPU\n",
    "    batch = tuple(t.to(device) for t in batch)\n",
    "    # Распаковываем данные из dataloader\n",
    "    val_inputs, val_mask, val_labels = batch\n",
    "    # При использовании .no_grad() модель не будет считать и хранить градиенты.\n",
    "    # Это ускорит процесс предсказания меток для валидационных данных.\n",
    "    with torch.no_grad():\n",
    "        logits = model(val_inputs, token_type_ids=None, attention_mask=val_mask)[0]\n",
    "    # Перемещаем logits и метки классов на CPU для дальнейшей работы\n",
    "    logits = logits.detach().cpu().numpy()\n",
    "    label_ids = val_labels.to('cpu').numpy()\n",
    "    \n",
    "    batch_preds = np.argmax(logits, axis=1)\n",
    "    batch_labels = np.concatenate(label_ids)     \n",
    "    valid_preds.extend(batch_preds)\n",
    "    valid_labels.extend(batch_labels)\n",
    "\n",
    "print(\"Процент правильных предсказаний на валидационной выборке: {0:.2f}%\".format(\n",
    "        accuracy_score(valid_labels, valid_preds) * 100\n",
    "    ))"
   ]
  },
  {
   "cell_type": "code",
   "execution_count": null,
   "metadata": {
    "colab": {},
    "colab_type": "code",
    "id": "IgTI4ESjSy1N"
   },
   "outputs": [],
   "source": [
    "print(\"Результат: {0:.2f}%\".format(\n",
    "    accuracy_score(valid_labels, valid_preds) * 100\n",
    "))"
   ]
  },
  {
   "cell_type": "code",
   "execution_count": null,
   "metadata": {
    "colab": {
     "base_uri": "https://localhost:8080/",
     "height": 34
    },
    "colab_type": "code",
    "executionInfo": {
     "elapsed": 3028,
     "status": "ok",
     "timestamp": 1591702800036,
     "user": {
      "displayName": "Виталий Цветков",
      "photoUrl": "https://lh3.googleusercontent.com/a-/AOh14GiIQfd3IzgVrpKUBUco_oznMQoxhNcthYkpbuyQJg=s64",
      "userId": "10199442936475267380"
     },
     "user_tz": -180
    },
    "id": "egfP0r5c4Fp-",
    "outputId": "0e6b0c7a-827c-4fa8-a7ec-1d5a93126834"
   },
   "outputs": [
    {
     "data": {
      "text/plain": [
       "<All keys matched successfully>"
      ]
     },
     "execution_count": 20,
     "metadata": {
      "tags": []
     },
     "output_type": "execute_result"
    }
   ],
   "source": [
    "model_save_name = 'BERT-twitter-1epoch.net'\n",
    "path = f\"/content/gdrive/My Drive/{model_save_name}\"\n",
    "model.load_state_dict(torch.load(path))"
   ]
  },
  {
   "cell_type": "markdown",
   "metadata": {
    "colab_type": "text",
    "id": "mkyubuJSOzg3"
   },
   "source": [
    "## Оценка качества на отложенной выборке"
   ]
  },
  {
   "cell_type": "markdown",
   "metadata": {
    "colab_type": "text",
    "id": "GZnGb4G0Sy1P"
   },
   "source": [
    "Качество на валидационной выборке оказалось очень хорошим. Не переобучилась ли наша модель?"
   ]
  },
  {
   "cell_type": "markdown",
   "metadata": {
    "colab_type": "text",
    "id": "nVH_5CgBSy1Q"
   },
   "source": [
    "Делаем точно такую же предобработку для тестовых данных, как и в начале ноутбука делали для обучающих данных:"
   ]
  },
  {
   "cell_type": "code",
   "execution_count": null,
   "metadata": {
    "colab": {},
    "colab_type": "code",
    "id": "mAN0LZBOOPVh"
   },
   "outputs": [],
   "source": [
    "tokenized_texts = [tokenizer.tokenize(sent) for sent in test_sentences]\n",
    "input_ids = [ tokenizer.convert_tokens_to_ids(x) for x in tokenized_texts]\n",
    "\n",
    "input_ids = pad_sequences(\n",
    "    input_ids,\n",
    "    maxlen=100,\n",
    "    dtype=\"long\",\n",
    "    truncating=\"post\",\n",
    "    padding=\"post\"\n",
    ")\n",
    "tokenized_texts[0]"
   ]
  },
  {
   "cell_type": "markdown",
   "metadata": {
    "colab_type": "text",
    "id": "zqZlDpdqSy1S"
   },
   "source": [
    "Создаем attention маски и приводим данные в необходимый формат:"
   ]
  },
  {
   "cell_type": "code",
   "execution_count": null,
   "metadata": {
    "colab": {},
    "colab_type": "code",
    "id": "Z0jqMHWDSy1S"
   },
   "outputs": [],
   "source": [
    "attention_masks = [[float(i>0) for i in seq] for seq in input_ids]\n",
    "\n",
    "prediction_inputs = torch.tensor(input_ids)\n",
    "prediction_masks = torch.tensor(attention_masks)\n",
    "prediction_labels = torch.tensor(test_gt)\n",
    "\n",
    "prediction_data = TensorDataset(\n",
    "    prediction_inputs,\n",
    "    prediction_masks,\n",
    "    prediction_labels\n",
    ")\n",
    "\n",
    "prediction_dataloader = DataLoader(\n",
    "    prediction_data, \n",
    "    sampler=SequentialSampler(prediction_data),\n",
    "    batch_size=1024\n",
    ")"
   ]
  },
  {
   "cell_type": "code",
   "execution_count": null,
   "metadata": {
    "colab": {
     "base_uri": "https://localhost:8080/",
     "height": 51
    },
    "colab_type": "code",
    "executionInfo": {
     "elapsed": 705977,
     "status": "ok",
     "timestamp": 1591705475336,
     "user": {
      "displayName": "Виталий Цветков",
      "photoUrl": "https://lh3.googleusercontent.com/a-/AOh14GiIQfd3IzgVrpKUBUco_oznMQoxhNcthYkpbuyQJg=s64",
      "userId": "10199442936475267380"
     },
     "user_tz": -180
    },
    "id": "Hba10sXR7Xi6",
    "outputId": "aaaba6d8-15f2-42b6-a610-1b35ec248ab3"
   },
   "outputs": [
    {
     "name": "stdout",
     "output_type": "stream",
     "text": [
      "CPU times: user 6min 58s, sys: 4min 41s, total: 11min 40s\n",
      "Wall time: 11min 40s\n"
     ]
    }
   ],
   "source": [
    "%%time\n",
    "model.eval()\n",
    "test_preds, test_labels = [], []\n",
    "\n",
    "for batch in prediction_dataloader:\n",
    "    # добавляем батч для вычисления на GPU\n",
    "    batch = tuple(t.to(device) for t in batch)\n",
    "    # Распаковываем данные из dataloader\n",
    "    batch_inputs, batch_mask, batch_labels = batch\n",
    "    # При использовании .no_grad() модель не будет считать и хранить градиенты.\n",
    "    # Это ускорит процесс предсказания меток для тестовых данных.\n",
    "    with torch.no_grad():\n",
    "        logits = model(batch_inputs, token_type_ids=None, attention_mask=batch_mask)[0]\n",
    "\n",
    "    # Перемещаем logits и метки классов на CPU для дальнейшей работы\n",
    "    logits = logits.detach().cpu().numpy()\n",
    "    label_ids = batch_labels.to('cpu').numpy()\n",
    "    \n",
    "    # Сохраняем предсказанные классы и ground truth\n",
    "    batch_preds = np.argmax(logits, axis=1)\n",
    "    batch_labels = np.concatenate(label_ids)  \n",
    "    test_preds.extend(batch_preds)\n",
    "    test_labels.extend(batch_labels)"
   ]
  },
  {
   "cell_type": "code",
   "execution_count": null,
   "metadata": {
    "colab": {
     "base_uri": "https://localhost:8080/",
     "height": 34
    },
    "colab_type": "code",
    "executionInfo": {
     "elapsed": 640,
     "status": "ok",
     "timestamp": 1591705524968,
     "user": {
      "displayName": "Виталий Цветков",
      "photoUrl": "https://lh3.googleusercontent.com/a-/AOh14GiIQfd3IzgVrpKUBUco_oznMQoxhNcthYkpbuyQJg=s64",
      "userId": "10199442936475267380"
     },
     "user_tz": -180
    },
    "id": "PZ4Frh-XSy1W",
    "outputId": "d07bf31c-67a8-410c-feb6-5b0cbc2f6902"
   },
   "outputs": [
    {
     "name": "stdout",
     "output_type": "stream",
     "text": [
      "Процент правильных предсказаний на отложенной выборке составил: 98.11%\n"
     ]
    }
   ],
   "source": [
    "acc_score = accuracy_score(test_labels, test_preds)\n",
    "print('Процент правильных предсказаний на отложенной выборке составил: {0:.2f}%'.format(\n",
    "    acc_score*100\n",
    "))"
   ]
  },
  {
   "cell_type": "code",
   "execution_count": null,
   "metadata": {
    "colab": {
     "base_uri": "https://localhost:8080/",
     "height": 51
    },
    "colab_type": "code",
    "executionInfo": {
     "elapsed": 655,
     "status": "ok",
     "timestamp": 1591709427701,
     "user": {
      "displayName": "Виталий Цветков",
      "photoUrl": "https://lh3.googleusercontent.com/a-/AOh14GiIQfd3IzgVrpKUBUco_oznMQoxhNcthYkpbuyQJg=s64",
      "userId": "10199442936475267380"
     },
     "user_tz": -180
    },
    "id": "YKiA4UGNSy1Y",
    "outputId": "581fa253-0314-4943-9e69-904991e0d380"
   },
   "outputs": [
    {
     "name": "stdout",
     "output_type": "stream",
     "text": [
      "Неправильных предсказаний: 1287/68051\n",
      "1.89%\n"
     ]
    }
   ],
   "source": [
    "print('Неправильных предсказаний: {0}/{1}'.format(\n",
    "    len([i for i, j in zip(test_labels, test_preds) if i != j]),\n",
    "    len(test_labels)\n",
    "))\n",
    "print ('{0:.2f}%'.format(len([i for i, j in zip(test_labels, test_preds) if i != j])/len(test_labels) * 100))"
   ]
  },
  {
   "cell_type": "markdown",
   "metadata": {
    "colab_type": "text",
    "id": "ICPd7yDYSy1a"
   },
   "source": [
    "### Оценка качества работы без fine-tuning"
   ]
  },
  {
   "cell_type": "code",
   "execution_count": null,
   "metadata": {
    "colab": {},
    "colab_type": "code",
    "id": "C643ymCjSy1b"
   },
   "outputs": [],
   "source": [
    "model_wo_finetuning = BertForSequenceClassification.from_pretrained(\"bert-base-uncased\", num_labels=2)\n",
    "model_wo_finetuning.cuda()"
   ]
  },
  {
   "cell_type": "code",
   "execution_count": null,
   "metadata": {
    "colab": {},
    "colab_type": "code",
    "id": "A8tDSLYPSy1c"
   },
   "outputs": [],
   "source": [
    "%%time\n",
    "model_wo_finetuning.eval()\n",
    "preds_wo_finetuning, labels_wo_finetuning = [], []\n",
    "\n",
    "for batch in prediction_dataloader:\n",
    "    batch = tuple(t.to(device) for t in batch)\n",
    "    b_input_ids, b_input_mask, b_labels = batch\n",
    "    with torch.no_grad():\n",
    "        logits = model_wo_finetuning(b_input_ids, token_type_ids=None, attention_mask=b_input_mask)\n",
    "\n",
    "    logits = logits[0].detach().cpu().numpy()\n",
    "    label_ids = b_labels.to('cpu').numpy()\n",
    "\n",
    "    batch_preds = np.argmax(logits, axis=1)\n",
    "    batch_labels = np.concatenate(label_ids)  \n",
    "    preds_wo_finetuning.extend(batch_preds)\n",
    "    labels_wo_finetuning.extend(batch_labels)"
   ]
  },
  {
   "cell_type": "code",
   "execution_count": null,
   "metadata": {
    "colab": {
     "base_uri": "https://localhost:8080/",
     "height": 34
    },
    "colab_type": "code",
    "executionInfo": {
     "elapsed": 801,
     "status": "ok",
     "timestamp": 1591710167821,
     "user": {
      "displayName": "Виталий Цветков",
      "photoUrl": "https://lh3.googleusercontent.com/a-/AOh14GiIQfd3IzgVrpKUBUco_oznMQoxhNcthYkpbuyQJg=s64",
      "userId": "10199442936475267380"
     },
     "user_tz": -180
    },
    "id": "tSw2g0PFSy1e",
    "outputId": "4b086fb7-1af8-4d54-e1c1-0682f3a3a698"
   },
   "outputs": [
    {
     "name": "stdout",
     "output_type": "stream",
     "text": [
      "Процент правильных предсказаний на отложенной выборке составил: 49.63%\n"
     ]
    }
   ],
   "source": [
    "acc_score_wo_finetuning = accuracy_score(labels_wo_finetuning, preds_wo_finetuning)\n",
    "print('Процент правильных предсказаний на отложенной выборке составил: {0:.2f}%'.format(\n",
    "    acc_score_wo_finetuning*100\n",
    "))"
   ]
  },
  {
   "cell_type": "markdown",
   "metadata": {
    "colab_type": "text",
    "id": "4z4KQB3NSy1g"
   },
   "source": [
    "Сравним точность и полноту предсказаний:"
   ]
  },
  {
   "cell_type": "code",
   "execution_count": null,
   "metadata": {
    "colab": {
     "base_uri": "https://localhost:8080/",
     "height": 51
    },
    "colab_type": "code",
    "executionInfo": {
     "elapsed": 1354,
     "status": "ok",
     "timestamp": 1591710168384,
     "user": {
      "displayName": "Виталий Цветков",
      "photoUrl": "https://lh3.googleusercontent.com/a-/AOh14GiIQfd3IzgVrpKUBUco_oznMQoxhNcthYkpbuyQJg=s64",
      "userId": "10199442936475267380"
     },
     "user_tz": -180
    },
    "id": "1yIc70E_Sy1g",
    "outputId": "563f8ef6-4fb6-4509-8bee-e46f2331adc1"
   },
   "outputs": [
    {
     "name": "stdout",
     "output_type": "stream",
     "text": [
      "1 эпоха: точность (precision) 99.95%, полнота (recall) 96.30%\n",
      "Без дообучения: точность (precision) 61.90%, полнота (recall) 0.79%\n"
     ]
    }
   ],
   "source": [
    "from sklearn.metrics import recall_score, precision_score\n",
    "\n",
    "print('1 эпоха: точность (precision) {0:.2f}%, полнота (recall) {1:.2f}%'.format(\n",
    "    precision_score(test_labels, test_preds) * 100,\n",
    "    recall_score(test_labels, test_preds) * 100\n",
    "))\n",
    " \n",
    "print('Без дообучения: точность (precision) {0:.2f}%, полнота (recall) {1:.2f}%'.format(\n",
    "    precision_score(labels_wo_finetuning, preds_wo_finetuning) * 100,\n",
    "    recall_score(labels_wo_finetuning, preds_wo_finetuning) * 100,\n",
    "))"
   ]
  },
  {
   "cell_type": "markdown",
   "metadata": {
    "colab_type": "text",
    "id": "lJXB1CZfKzMZ"
   },
   "source": [
    "### Другие модели\n",
    "\n",
    "В данный момент улучшениями над бертом являются следующие модели: XL-net and RoBERTA, причем вторая это просто качественнее тренированная модель.\n",
    "\n",
    "А давайте проверим, как они работают в нашем случае при finetunnig. "
   ]
  },
  {
   "cell_type": "code",
   "execution_count": 7,
   "metadata": {
    "colab": {},
    "colab_type": "code",
    "executionInfo": {
     "elapsed": 749,
     "status": "ok",
     "timestamp": 1592665819937,
     "user": {
      "displayName": "Виталий Цветков",
      "photoUrl": "https://lh3.googleusercontent.com/a-/AOh14GiIQfd3IzgVrpKUBUco_oznMQoxhNcthYkpbuyQJg=s64",
      "userId": "10199442936475267380"
     },
     "user_tz": -180
    },
    "id": "FGRtz-BHx-g9"
   },
   "outputs": [],
   "source": [
    "def prepare_data(pos_texts, neg_texts, batch_size):\n",
    "  sentences = np.concatenate([pos_texts[3].values, neg_texts[3].values])\n",
    "  sentences = ['[CLS] ' + sent + ' [SEP]' for sent in sentences]\n",
    "  labels = [[1] for _ in range(pos_texts.shape[0])] + [[0] for _ in range(neg_texts.shape[0])]\n",
    "  train_sentences, test_sentences, train_gt, test_gt = train_test_split(sentences, labels, test_size=0.3)\n",
    "\n",
    "  tokenizer = BertTokenizer.from_pretrained('bert-base-uncased', do_lower_case=True)\n",
    "\n",
    "  ### TRAIN: ###\n",
    "  tokenized_texts = [tokenizer.tokenize(sent) for sent in train_sentences]\n",
    "  input_ids = [ tokenizer.convert_tokens_to_ids(x) for x in tokenized_texts]\n",
    "\n",
    "  # padding\n",
    "  input_ids = pad_sequences(\n",
    "      input_ids,\n",
    "      maxlen=100,\n",
    "      dtype=\"long\",\n",
    "      truncating=\"post\",\n",
    "      padding=\"post\"\n",
    "  )\n",
    "\n",
    "  attention_masks = [[float(i>0) for i in seq] for seq in input_ids]\n",
    "\n",
    "  train_inputs, validation_inputs, train_labels, validation_labels = train_test_split(\n",
    "    input_ids, train_gt, \n",
    "    random_state=42,\n",
    "    test_size=0.1\n",
    ")\n",
    "\n",
    "  train_masks, validation_masks, _, _ = train_test_split(\n",
    "      attention_masks,\n",
    "      input_ids,\n",
    "      random_state=42,\n",
    "      test_size=0.1\n",
    "  )\n",
    "\n",
    "  train_inputs = torch.tensor(train_inputs)\n",
    "  train_labels = torch.tensor(train_labels)\n",
    "  train_masks = torch.tensor(train_masks)\n",
    "\n",
    "  validation_inputs = torch.tensor(validation_inputs)\n",
    "  validation_labels = torch.tensor(validation_labels)\n",
    "  validation_masks = torch.tensor(validation_masks)\n",
    "\n",
    "  train_data = TensorDataset(train_inputs, train_masks, train_labels)\n",
    "  train_dataloader = DataLoader(train_data, sampler=RandomSampler(train_data), batch_size=batch_size )\n",
    "  validation_data = TensorDataset(validation_inputs, validation_masks, validation_labels)\n",
    "  validation_dataloader = DataLoader(validation_data, sampler=RandomSampler(validation_data), batch_size=batch_size )\n",
    "  print('data for train ready')\n",
    "\n",
    "  ### TEST: ###\n",
    "  tokenized_texts = [tokenizer.tokenize(sent) for sent in test_sentences]\n",
    "  input_ids = [ tokenizer.convert_tokens_to_ids(x) for x in tokenized_texts]\n",
    "\n",
    "  input_ids = pad_sequences(\n",
    "      input_ids,\n",
    "      maxlen=100,\n",
    "      dtype=\"long\",\n",
    "      truncating=\"post\",\n",
    "      padding=\"post\"\n",
    "  )\n",
    "\n",
    "  attention_masks = [[float(i>0) for i in seq] for seq in input_ids]\n",
    "\n",
    "  prediction_inputs = torch.tensor(input_ids)\n",
    "  prediction_masks = torch.tensor(attention_masks)\n",
    "  prediction_labels = torch.tensor(test_gt)\n",
    "\n",
    "  prediction_data = TensorDataset(\n",
    "      prediction_inputs,\n",
    "      prediction_masks,\n",
    "      prediction_labels\n",
    "  )\n",
    "\n",
    "  prediction_dataloader = DataLoader(\n",
    "      prediction_data, \n",
    "      sampler=SequentialSampler(prediction_data),\n",
    "      batch_size=batch_size\n",
    "  )\n",
    "  print('data for test ready')\n",
    "  return train_dataloader, validation_dataloader, prediction_dataloader"
   ]
  },
  {
   "cell_type": "code",
   "execution_count": 8,
   "metadata": {
    "colab": {},
    "colab_type": "code",
    "executionInfo": {
     "elapsed": 1741,
     "status": "ok",
     "timestamp": 1592665823198,
     "user": {
      "displayName": "Виталий Цветков",
      "photoUrl": "https://lh3.googleusercontent.com/a-/AOh14GiIQfd3IzgVrpKUBUco_oznMQoxhNcthYkpbuyQJg=s64",
      "userId": "10199442936475267380"
     },
     "user_tz": -180
    },
    "id": "ZLjfXCDRu9Y6"
   },
   "outputs": [],
   "source": [
    "def train_model(model, train_dataloader):\n",
    "\n",
    "  #define optimizer:\n",
    "  param_optimizer = list(model.named_parameters())\n",
    "  no_decay = ['bias', 'gamma', 'beta']\n",
    "  optimizer_grouped_parameters = [\n",
    "      {'params': [p for n, p in param_optimizer if not any(nd in n for nd in no_decay)],\n",
    "      'weight_decay_rate': 0.01},\n",
    "      {'params': [p for n, p in param_optimizer if any(nd in n for nd in no_decay)],\n",
    "      'weight_decay_rate': 0.0}\n",
    "  ]\n",
    "  optimizer = AdamW(optimizer_grouped_parameters, lr=2e-5)\n",
    "\n",
    "  # Будем сохранять loss во время обучения\n",
    "  # и рисовать график в режиме реального времени\n",
    "  train_loss_set = []\n",
    "  train_loss = 0\n",
    "\n",
    "  # Обучение\n",
    "  # Переводим модель в training mode\n",
    "  model.train()\n",
    "\n",
    "  for step, batch in enumerate(train_dataloader):\n",
    "      # добавляем батч для вычисления на GPU\n",
    "      batch = tuple(t.to(device) for t in batch)\n",
    "      # Распаковываем данные из dataloader\n",
    "      train_inputs, train_mask, train_labels = batch\n",
    "      # если не сделать .zero_grad(), градиенты будут накапливаться\n",
    "      optimizer.zero_grad()\n",
    "      # Forward pass\n",
    "      loss = model(train_inputs, attention_mask=train_mask, token_type_ids=None, labels=train_labels)[0]\n",
    "      print (loss)\n",
    "      train_loss_set.append(loss)\n",
    "      # Backward pass\n",
    "      loss.backward()\n",
    "      # Обновляем параметры и делаем шаг используя посчитанные градиенты\n",
    "      optimizer.step()\n",
    "      # Обновляем loss\n",
    "      train_loss += loss\n",
    "      # Рисуем график\n",
    "      clear_output(True)\n",
    "      plt.plot(train_loss_set)\n",
    "      plt.title(\"Training loss\")\n",
    "      plt.xlabel(\"Batch\")\n",
    "      plt.ylabel(\"Loss\")\n",
    "      plt.show()\n",
    "      \n",
    "  print(\"Loss на обучающей выборке: {0:.5f}\".format(train_loss / len(train_dataloader)))\n",
    "\n",
    "  return train_loss_set"
   ]
  },
  {
   "cell_type": "code",
   "execution_count": 9,
   "metadata": {
    "colab": {},
    "colab_type": "code",
    "executionInfo": {
     "elapsed": 1355,
     "status": "ok",
     "timestamp": 1592665825123,
     "user": {
      "displayName": "Виталий Цветков",
      "photoUrl": "https://lh3.googleusercontent.com/a-/AOh14GiIQfd3IzgVrpKUBUco_oznMQoxhNcthYkpbuyQJg=s64",
      "userId": "10199442936475267380"
     },
     "user_tz": -180
    },
    "id": "D10ZrrUevUMQ"
   },
   "outputs": [],
   "source": [
    "def val_model(model, validation_dataloader):\n",
    "  # Валидация\n",
    "  # Переводим модель в evaluation mode\n",
    "  model.eval()\n",
    "\n",
    "  valid_preds, valid_labels = [], []\n",
    "\n",
    "  for batch in validation_dataloader:   \n",
    "      # добавляем батч для вычисления на GPU\n",
    "      batch = tuple(t.to(device) for t in batch)\n",
    "      # Распаковываем данные из dataloader\n",
    "      val_inputs, val_mask, val_labels = batch\n",
    "      # При использовании .no_grad() модель не будет считать и хранить градиенты.\n",
    "      # Это ускорит процесс предсказания меток для валидационных данных.\n",
    "      with torch.no_grad():\n",
    "          logits = model(val_inputs, token_type_ids=None, attention_mask=val_mask)[0]\n",
    "      # Перемещаем logits и метки классов на CPU для дальнейшей работы\n",
    "      logits = logits.detach().cpu().numpy()\n",
    "      label_ids = val_labels.to('cpu').numpy()\n",
    "      \n",
    "      batch_preds = np.argmax(logits, axis=1)\n",
    "      batch_labels = np.concatenate(label_ids)     \n",
    "      valid_preds.extend(batch_preds)\n",
    "      valid_labels.extend(batch_labels)\n",
    "\n",
    "      acc_score = accuracy_score(valid_labels, valid_preds)\n",
    "  print(\"Процент правильных предсказаний на валидационной выборке: {0:.2f}%\".format(\n",
    "          acc_score * 100\n",
    "      ))\n",
    "  return acc_score"
   ]
  },
  {
   "cell_type": "code",
   "execution_count": null,
   "metadata": {
    "colab": {},
    "colab_type": "code",
    "id": "vs8xvCNfXdAO"
   },
   "outputs": [],
   "source": [
    "from sklearn.metrics import recall_score, precision_score\n",
    "acc_score = accuracy_score(test_labels, test_preds)\n",
    "print('Процент правильных предсказаний на отложенной выборке составил: {0:.2f}%'.format(\n",
    "    acc_score*100\n",
    "))\n",
    "\n",
    "print('1 эпоха: точность (precision) {0:.2f}%, полнота (recall) {1:.2f}%'.format(\n",
    "    precision_score(test_labels, test_preds) * 100,\n",
    "    recall_score(test_labels, test_preds) * 100\n",
    "))"
   ]
  },
  {
   "cell_type": "code",
   "execution_count": 26,
   "metadata": {
    "colab": {},
    "colab_type": "code",
    "executionInfo": {
     "elapsed": 847,
     "status": "ok",
     "timestamp": 1592668145186,
     "user": {
      "displayName": "Виталий Цветков",
      "photoUrl": "https://lh3.googleusercontent.com/a-/AOh14GiIQfd3IzgVrpKUBUco_oznMQoxhNcthYkpbuyQJg=s64",
      "userId": "10199442936475267380"
     },
     "user_tz": -180
    },
    "id": "tBgBQe0yUy9r"
   },
   "outputs": [],
   "source": [
    "def test_model(model, prediction_dataloader):\n",
    "  model.eval()\n",
    "  test_preds, test_labels = [], []\n",
    "\n",
    "  for batch in prediction_dataloader:\n",
    "      # добавляем батч для вычисления на GPU\n",
    "      batch = tuple(t.to(device) for t in batch)\n",
    "      # Распаковываем данные из dataloader\n",
    "      batch_inputs, batch_mask, batch_labels = batch\n",
    "      # При использовании .no_grad() модель не будет считать и хранить градиенты.\n",
    "      # Это ускорит процесс предсказания меток для тестовых данных.\n",
    "      with torch.no_grad():\n",
    "          logits = model(batch_inputs, token_type_ids=None, attention_mask=batch_mask)[0]\n",
    "\n",
    "      # Перемещаем logits и метки классов на CPU для дальнейшей работы\n",
    "      logits = logits.detach().cpu().numpy()\n",
    "      label_ids = batch_labels.to('cpu').numpy()\n",
    "      \n",
    "      # Сохраняем предсказанные классы и ground truth\n",
    "      batch_preds = np.argmax(logits, axis=1)\n",
    "      batch_labels = np.concatenate(label_ids)  \n",
    "      test_preds.extend(batch_preds)\n",
    "      test_labels.extend(batch_labels)\n",
    "\n",
    "  acc_score = accuracy_score(test_labels, test_preds)\n",
    "  print('Процент правильных предсказаний на отложенной выборке составил: {0:.2f}%'.format(\n",
    "  acc_score*100\n",
    "  ))\n",
    "\n",
    "  print('1 эпоха: точность (precision) {0:.2f}%, полнота (recall) {1:.2f}%'.format(\n",
    "    precision_score(test_labels, test_preds) * 100,\n",
    "    recall_score(test_labels, test_preds) * 100\n",
    "  ))\n",
    "  return test_preds, test_labels"
   ]
  },
  {
   "cell_type": "code",
   "execution_count": 10,
   "metadata": {
    "colab": {
     "base_uri": "https://localhost:8080/",
     "height": 134,
     "referenced_widgets": [
      "3f3cd0e312394eb3a70a5e9c61292067",
      "6688c4950d404a52b56ef0bf83273785",
      "c0d00bfdef88445a9d51bd8de772e3cf",
      "178d9db536a44921a78bca82abd52119",
      "e5abbdd5d7b143b6813fcf4346f26cf5",
      "f80caa1e0c634b52a8ce477a5caef99b",
      "42169dc992bc4dba9130d4bf941038a8",
      "9283be84af81444a99c29189f7ffd665"
     ]
    },
    "colab_type": "code",
    "executionInfo": {
     "elapsed": 152496,
     "status": "ok",
     "timestamp": 1592665980518,
     "user": {
      "displayName": "Виталий Цветков",
      "photoUrl": "https://lh3.googleusercontent.com/a-/AOh14GiIQfd3IzgVrpKUBUco_oznMQoxhNcthYkpbuyQJg=s64",
      "userId": "10199442936475267380"
     },
     "user_tz": -180
    },
    "id": "WAdMUamv9MYa",
    "outputId": "e40fe6d3-c7b6-487d-8b0e-80708b4e14d5"
   },
   "outputs": [
    {
     "data": {
      "application/vnd.jupyter.widget-view+json": {
       "model_id": "3f3cd0e312394eb3a70a5e9c61292067",
       "version_major": 2,
       "version_minor": 0
      },
      "text/plain": [
       "HBox(children=(FloatProgress(value=0.0, description='Downloading', max=231508.0, style=ProgressStyle(descripti…"
      ]
     },
     "metadata": {
      "tags": []
     },
     "output_type": "display_data"
    },
    {
     "name": "stdout",
     "output_type": "stream",
     "text": [
      "\n",
      "data for train ready\n",
      "data for test ready\n",
      "CPU times: user 2min 29s, sys: 1.73 s, total: 2min 30s\n",
      "Wall time: 2min 31s\n"
     ]
    }
   ],
   "source": [
    "%%time\n",
    "train_dataloader, val_dataloader, pred_dataloader = prepare_data(pos_texts, neg_texts, batch_size=16)"
   ]
  },
  {
   "cell_type": "code",
   "execution_count": 11,
   "metadata": {
    "colab": {},
    "colab_type": "code",
    "executionInfo": {
     "elapsed": 152040,
     "status": "ok",
     "timestamp": 1592665980802,
     "user": {
      "displayName": "Виталий Цветков",
      "photoUrl": "https://lh3.googleusercontent.com/a-/AOh14GiIQfd3IzgVrpKUBUco_oznMQoxhNcthYkpbuyQJg=s64",
      "userId": "10199442936475267380"
     },
     "user_tz": -180
    },
    "id": "U9DMxXtSX7mh"
   },
   "outputs": [],
   "source": [
    "from transformers import XLNetForSequenceClassification, RobertaForSequenceClassification"
   ]
  },
  {
   "cell_type": "code",
   "execution_count": 19,
   "metadata": {
    "colab": {
     "base_uri": "https://localhost:8080/",
     "height": 149,
     "referenced_widgets": [
      "0c9ab7788e334a03b147cb36ac395986",
      "7910e07a16014eb1860172f1fe5d229e",
      "018aad64b9fe43108ba44c90e660f17d",
      "7337a5995bf949e1a85ec42bef0e7a09",
      "74d7712561e344698553f32b2aac0834",
      "3926de8ddd2548dd915666d60026e468",
      "fd936abc70ed42f7b5271a724da371f7",
      "8e2bf54776cf4ae0a68b11c91c65e509",
      "9332926eccd6441e878bb15f2ef92e6f",
      "813ca36d83b5402598a11b41b21eb41d",
      "46d6dcdf196945b7a0f623e0b8e700b5",
      "cad1b66dae55450eb31b77b81b6096c3",
      "47fea1db0e6f485f9f1d922139702b50",
      "e95e1e0e443949eb8db3fcedbdde344a",
      "7a9d246f644d4f2099a4702bce7dc6cd",
      "efa20b8ba7ef4b47868216b6bf81e7c9"
     ]
    },
    "colab_type": "code",
    "executionInfo": {
     "elapsed": 35599,
     "status": "ok",
     "timestamp": 1592666956739,
     "user": {
      "displayName": "Виталий Цветков",
      "photoUrl": "https://lh3.googleusercontent.com/a-/AOh14GiIQfd3IzgVrpKUBUco_oznMQoxhNcthYkpbuyQJg=s64",
      "userId": "10199442936475267380"
     },
     "user_tz": -180
    },
    "id": "3EUgG2MDt9FK",
    "outputId": "3e17bd59-c6ed-450e-b15d-99d5d2e70ae0"
   },
   "outputs": [
    {
     "data": {
      "application/vnd.jupyter.widget-view+json": {
       "model_id": "0c9ab7788e334a03b147cb36ac395986",
       "version_major": 2,
       "version_minor": 0
      },
      "text/plain": [
       "HBox(children=(FloatProgress(value=0.0, description='Downloading', max=481.0, style=ProgressStyle(description_…"
      ]
     },
     "metadata": {
      "tags": []
     },
     "output_type": "display_data"
    },
    {
     "name": "stdout",
     "output_type": "stream",
     "text": [
      "\n"
     ]
    },
    {
     "data": {
      "application/vnd.jupyter.widget-view+json": {
       "model_id": "9332926eccd6441e878bb15f2ef92e6f",
       "version_major": 2,
       "version_minor": 0
      },
      "text/plain": [
       "HBox(children=(FloatProgress(value=0.0, description='Downloading', max=501200538.0, style=ProgressStyle(descri…"
      ]
     },
     "metadata": {
      "tags": []
     },
     "output_type": "display_data"
    },
    {
     "name": "stdout",
     "output_type": "stream",
     "text": [
      "\n",
      "CPU times: user 14.2 s, sys: 2.01 s, total: 16.2 s\n",
      "Wall time: 34.9 s\n"
     ]
    }
   ],
   "source": [
    "%%time\n",
    "roberta_model = RobertaForSequenceClassification.from_pretrained(\"roberta-base\", num_labels=2)\n",
    "roberta_model.to(device)"
   ]
  },
  {
   "cell_type": "code",
   "execution_count": null,
   "metadata": {
    "colab": {
     "base_uri": "https://localhost:8080/",
     "height": 669
    },
    "colab_type": "code",
    "executionInfo": {
     "elapsed": 6733621,
     "status": "error",
     "timestamp": 1592231566829,
     "user": {
      "displayName": "Виталий Цветков",
      "photoUrl": "https://lh3.googleusercontent.com/a-/AOh14GiIQfd3IzgVrpKUBUco_oznMQoxhNcthYkpbuyQJg=s64",
      "userId": "10199442936475267380"
     },
     "user_tz": -180
    },
    "id": "pZ7EoDoav7lX",
    "outputId": "7ef106bc-be6b-488b-ce96-13b9fc6f8466",
    "scrolled": true
   },
   "outputs": [
    {
     "data": {
      "image/png": "[encoded data removed]",
      "text/plain": [
       "<Figure size 432x288 with 1 Axes>"
      ]
     },
     "metadata": {
      "needs_background": "light",
      "tags": []
     },
     "output_type": "display_data"
    },
    {
     "name": "stdout",
     "output_type": "stream",
     "text": [
      "Loss на обучающей выборке: 0.05747\n"
     ]
    },
    {
     "ename": "AttributeError",
     "evalue": "ignored",
     "output_type": "error",
     "traceback": [
      "\u001b[0;31m---------------------------------------------------------------------------\u001b[0m",
      "\u001b[0;31mAttributeError\u001b[0m                            Traceback (most recent call last)",
      "\u001b[0;32m<ipython-input-19-f77d0b48b0bf>\u001b[0m in \u001b[0;36m<module>\u001b[0;34m()\u001b[0m\n\u001b[0;32m----> 1\u001b[0;31m \u001b[0mget_ipython\u001b[0m\u001b[0;34m(\u001b[0m\u001b[0;34m)\u001b[0m\u001b[0;34m.\u001b[0m\u001b[0mrun_cell_magic\u001b[0m\u001b[0;34m(\u001b[0m\u001b[0;34m'time'\u001b[0m\u001b[0;34m,\u001b[0m \u001b[0;34m''\u001b[0m\u001b[0;34m,\u001b[0m \u001b[0;34m'\\nloss_roberta, acc_roberta = train_model(roberta_model, train_dataloader, val_dataloader)'\u001b[0m\u001b[0;34m)\u001b[0m\u001b[0;34m\u001b[0m\u001b[0;34m\u001b[0m\u001b[0m\n\u001b[0m",
      "\u001b[0;32m/usr/local/lib/python3.6/dist-packages/IPython/core/interactiveshell.py\u001b[0m in \u001b[0;36mrun_cell_magic\u001b[0;34m(self, magic_name, line, cell)\u001b[0m\n\u001b[1;32m   2115\u001b[0m             \u001b[0mmagic_arg_s\u001b[0m \u001b[0;34m=\u001b[0m \u001b[0mself\u001b[0m\u001b[0;34m.\u001b[0m\u001b[0mvar_expand\u001b[0m\u001b[0;34m(\u001b[0m\u001b[0mline\u001b[0m\u001b[0;34m,\u001b[0m \u001b[0mstack_depth\u001b[0m\u001b[0;34m)\u001b[0m\u001b[0;34m\u001b[0m\u001b[0;34m\u001b[0m\u001b[0m\n\u001b[1;32m   2116\u001b[0m             \u001b[0;32mwith\u001b[0m \u001b[0mself\u001b[0m\u001b[0;34m.\u001b[0m\u001b[0mbuiltin_trap\u001b[0m\u001b[0;34m:\u001b[0m\u001b[0;34m\u001b[0m\u001b[0;34m\u001b[0m\u001b[0m\n\u001b[0;32m-> 2117\u001b[0;31m                 \u001b[0mresult\u001b[0m \u001b[0;34m=\u001b[0m \u001b[0mfn\u001b[0m\u001b[0;34m(\u001b[0m\u001b[0mmagic_arg_s\u001b[0m\u001b[0;34m,\u001b[0m \u001b[0mcell\u001b[0m\u001b[0;34m)\u001b[0m\u001b[0;34m\u001b[0m\u001b[0;34m\u001b[0m\u001b[0m\n\u001b[0m\u001b[1;32m   2118\u001b[0m             \u001b[0;32mreturn\u001b[0m \u001b[0mresult\u001b[0m\u001b[0;34m\u001b[0m\u001b[0;34m\u001b[0m\u001b[0m\n\u001b[1;32m   2119\u001b[0m \u001b[0;34m\u001b[0m\u001b[0m\n",
      "\u001b[0;32m<decorator-gen-60>\u001b[0m in \u001b[0;36mtime\u001b[0;34m(self, line, cell, local_ns)\u001b[0m\n",
      "\u001b[0;32m/usr/local/lib/python3.6/dist-packages/IPython/core/magic.py\u001b[0m in \u001b[0;36m<lambda>\u001b[0;34m(f, *a, **k)\u001b[0m\n\u001b[1;32m    186\u001b[0m     \u001b[0;31m# but it's overkill for just that one bit of state.\u001b[0m\u001b[0;34m\u001b[0m\u001b[0;34m\u001b[0m\u001b[0;34m\u001b[0m\u001b[0m\n\u001b[1;32m    187\u001b[0m     \u001b[0;32mdef\u001b[0m \u001b[0mmagic_deco\u001b[0m\u001b[0;34m(\u001b[0m\u001b[0marg\u001b[0m\u001b[0;34m)\u001b[0m\u001b[0;34m:\u001b[0m\u001b[0;34m\u001b[0m\u001b[0;34m\u001b[0m\u001b[0m\n\u001b[0;32m--> 188\u001b[0;31m         \u001b[0mcall\u001b[0m \u001b[0;34m=\u001b[0m \u001b[0;32mlambda\u001b[0m \u001b[0mf\u001b[0m\u001b[0;34m,\u001b[0m \u001b[0;34m*\u001b[0m\u001b[0ma\u001b[0m\u001b[0;34m,\u001b[0m \u001b[0;34m**\u001b[0m\u001b[0mk\u001b[0m\u001b[0;34m:\u001b[0m \u001b[0mf\u001b[0m\u001b[0;34m(\u001b[0m\u001b[0;34m*\u001b[0m\u001b[0ma\u001b[0m\u001b[0;34m,\u001b[0m \u001b[0;34m**\u001b[0m\u001b[0mk\u001b[0m\u001b[0;34m)\u001b[0m\u001b[0;34m\u001b[0m\u001b[0;34m\u001b[0m\u001b[0m\n\u001b[0m\u001b[1;32m    189\u001b[0m \u001b[0;34m\u001b[0m\u001b[0m\n\u001b[1;32m    190\u001b[0m         \u001b[0;32mif\u001b[0m \u001b[0mcallable\u001b[0m\u001b[0;34m(\u001b[0m\u001b[0marg\u001b[0m\u001b[0;34m)\u001b[0m\u001b[0;34m:\u001b[0m\u001b[0;34m\u001b[0m\u001b[0;34m\u001b[0m\u001b[0m\n",
      "\u001b[0;32m/usr/local/lib/python3.6/dist-packages/IPython/core/magics/execution.py\u001b[0m in \u001b[0;36mtime\u001b[0;34m(self, line, cell, local_ns)\u001b[0m\n\u001b[1;32m   1191\u001b[0m         \u001b[0;32melse\u001b[0m\u001b[0;34m:\u001b[0m\u001b[0;34m\u001b[0m\u001b[0;34m\u001b[0m\u001b[0m\n\u001b[1;32m   1192\u001b[0m             \u001b[0mst\u001b[0m \u001b[0;34m=\u001b[0m \u001b[0mclock2\u001b[0m\u001b[0;34m(\u001b[0m\u001b[0;34m)\u001b[0m\u001b[0;34m\u001b[0m\u001b[0;34m\u001b[0m\u001b[0m\n\u001b[0;32m-> 1193\u001b[0;31m             \u001b[0mexec\u001b[0m\u001b[0;34m(\u001b[0m\u001b[0mcode\u001b[0m\u001b[0;34m,\u001b[0m \u001b[0mglob\u001b[0m\u001b[0;34m,\u001b[0m \u001b[0mlocal_ns\u001b[0m\u001b[0;34m)\u001b[0m\u001b[0;34m\u001b[0m\u001b[0;34m\u001b[0m\u001b[0m\n\u001b[0m\u001b[1;32m   1194\u001b[0m             \u001b[0mend\u001b[0m \u001b[0;34m=\u001b[0m \u001b[0mclock2\u001b[0m\u001b[0;34m(\u001b[0m\u001b[0;34m)\u001b[0m\u001b[0;34m\u001b[0m\u001b[0;34m\u001b[0m\u001b[0m\n\u001b[1;32m   1195\u001b[0m             \u001b[0mout\u001b[0m \u001b[0;34m=\u001b[0m \u001b[0;32mNone\u001b[0m\u001b[0;34m\u001b[0m\u001b[0;34m\u001b[0m\u001b[0m\n",
      "\u001b[0;32m<timed exec>\u001b[0m in \u001b[0;36m<module>\u001b[0;34m()\u001b[0m\n",
      "\u001b[0;32m<ipython-input-16-675d068d06dc>\u001b[0m in \u001b[0;36mtrain_model\u001b[0;34m(model, train_dataloader, validation_dataloader)\u001b[0m\n\u001b[1;32m     67\u001b[0m           \u001b[0mlogits\u001b[0m \u001b[0;34m=\u001b[0m \u001b[0mmodel\u001b[0m\u001b[0;34m(\u001b[0m\u001b[0mval_inputs\u001b[0m\u001b[0;34m,\u001b[0m \u001b[0mtoken_type_ids\u001b[0m\u001b[0;34m=\u001b[0m\u001b[0;32mNone\u001b[0m\u001b[0;34m,\u001b[0m \u001b[0mattention_mask\u001b[0m\u001b[0;34m=\u001b[0m\u001b[0mval_mask\u001b[0m\u001b[0;34m)\u001b[0m\u001b[0;34m\u001b[0m\u001b[0;34m\u001b[0m\u001b[0m\n\u001b[1;32m     68\u001b[0m       \u001b[0;31m# Перемещаем logits и метки классов на CPU для дальнейшей работы\u001b[0m\u001b[0;34m\u001b[0m\u001b[0;34m\u001b[0m\u001b[0;34m\u001b[0m\u001b[0m\n\u001b[0;32m---> 69\u001b[0;31m       \u001b[0mlogits\u001b[0m \u001b[0;34m=\u001b[0m \u001b[0mlogits\u001b[0m\u001b[0;34m.\u001b[0m\u001b[0mdetach\u001b[0m\u001b[0;34m(\u001b[0m\u001b[0;34m)\u001b[0m\u001b[0;34m.\u001b[0m\u001b[0mcpu\u001b[0m\u001b[0;34m(\u001b[0m\u001b[0;34m)\u001b[0m\u001b[0;34m.\u001b[0m\u001b[0mnumpy\u001b[0m\u001b[0;34m(\u001b[0m\u001b[0;34m)\u001b[0m\u001b[0;34m\u001b[0m\u001b[0;34m\u001b[0m\u001b[0m\n\u001b[0m\u001b[1;32m     70\u001b[0m       \u001b[0mlabel_ids\u001b[0m \u001b[0;34m=\u001b[0m \u001b[0mval_labels\u001b[0m\u001b[0;34m.\u001b[0m\u001b[0mto\u001b[0m\u001b[0;34m(\u001b[0m\u001b[0;34m'cpu'\u001b[0m\u001b[0;34m)\u001b[0m\u001b[0;34m.\u001b[0m\u001b[0mnumpy\u001b[0m\u001b[0;34m(\u001b[0m\u001b[0;34m)\u001b[0m\u001b[0;34m\u001b[0m\u001b[0;34m\u001b[0m\u001b[0m\n\u001b[1;32m     71\u001b[0m \u001b[0;34m\u001b[0m\u001b[0m\n",
      "\u001b[0;31mAttributeError\u001b[0m: 'tuple' object has no attribute 'detach'"
     ]
    }
   ],
   "source": [
    "%%time\n",
    "loss_roberta = train_model(roberta_model, train_dataloader, val_dataloader)"
   ]
  },
  {
   "cell_type": "code",
   "execution_count": null,
   "metadata": {
    "colab": {
     "base_uri": "https://localhost:8080/",
     "height": 68
    },
    "colab_type": "code",
    "executionInfo": {
     "elapsed": 182993,
     "status": "ok",
     "timestamp": 1592233505810,
     "user": {
      "displayName": "Виталий Цветков",
      "photoUrl": "https://lh3.googleusercontent.com/a-/AOh14GiIQfd3IzgVrpKUBUco_oznMQoxhNcthYkpbuyQJg=s64",
      "userId": "10199442936475267380"
     },
     "user_tz": -180
    },
    "id": "sMKQBMUzetxn",
    "outputId": "d8b5e5b6-03f8-4019-eed0-06090930381b"
   },
   "outputs": [
    {
     "name": "stdout",
     "output_type": "stream",
     "text": [
      "Процент правильных предсказаний на валидационной выборке: 95.89%\n",
      "CPU times: user 1min 57s, sys: 1min 4s, total: 3min 2s\n",
      "Wall time: 3min 2s\n"
     ]
    }
   ],
   "source": [
    "%%time\n",
    "val_roberta = val_model(roberta_model, val_dataloader)"
   ]
  },
  {
   "cell_type": "code",
   "execution_count": null,
   "metadata": {
    "colab": {},
    "colab_type": "code",
    "id": "iJdv7acuVfPn"
   },
   "outputs": [],
   "source": [
    "model_save_name = 'RoBERTa-twitter-1epoch.net'\n",
    "path = F\"/content/gdrive/My Drive/{model_save_name}\" \n",
    "torch.save(roberta_model.state_dict(), path)"
   ]
  },
  {
   "cell_type": "code",
   "execution_count": 20,
   "metadata": {
    "colab": {
     "base_uri": "https://localhost:8080/",
     "height": 34
    },
    "colab_type": "code",
    "executionInfo": {
     "elapsed": 1425,
     "status": "ok",
     "timestamp": 1592666959131,
     "user": {
      "displayName": "Виталий Цветков",
      "photoUrl": "https://lh3.googleusercontent.com/a-/AOh14GiIQfd3IzgVrpKUBUco_oznMQoxhNcthYkpbuyQJg=s64",
      "userId": "10199442936475267380"
     },
     "user_tz": -180
    },
    "id": "qJla1br4UqLo",
    "outputId": "ffde986d-0247-4bca-fc32-740560674dc4"
   },
   "outputs": [
    {
     "data": {
      "text/plain": [
       "<All keys matched successfully>"
      ]
     },
     "execution_count": 20,
     "metadata": {
      "tags": []
     },
     "output_type": "execute_result"
    }
   ],
   "source": [
    "model_save_name = 'RoBERTa-twitter-1epoch.net'\n",
    "path = f\"/content/gdrive/My Drive/{model_save_name}\"\n",
    "roberta_model.load_state_dict(torch.load(path))"
   ]
  },
  {
   "cell_type": "code",
   "execution_count": null,
   "metadata": {
    "colab": {},
    "colab_type": "code",
    "id": "YCnZp258v74i"
   },
   "outputs": [],
   "source": [
    "xlnet_model = XLNetForSequenceClassification.from_pretrained(\"xlnet-base-cased\", num_labels=2)\n",
    "xlnet_model.to(device)"
   ]
  },
  {
   "cell_type": "code",
   "execution_count": null,
   "metadata": {
    "colab": {
     "base_uri": "https://localhost:8080/",
     "height": 346
    },
    "colab_type": "code",
    "executionInfo": {
     "elapsed": 8338057,
     "status": "ok",
     "timestamp": 1592249605347,
     "user": {
      "displayName": "Виталий Цветков",
      "photoUrl": "https://lh3.googleusercontent.com/a-/AOh14GiIQfd3IzgVrpKUBUco_oznMQoxhNcthYkpbuyQJg=s64",
      "userId": "10199442936475267380"
     },
     "user_tz": -180
    },
    "id": "YaEal6jyv8Dp",
    "outputId": "7d242d46-032a-48fd-eb38-aae8d116516a"
   },
   "outputs": [
    {
     "data": {
      "image/png": "[encoded data removed]",
      "text/plain": [
       "<Figure size 432x288 with 1 Axes>"
      ]
     },
     "metadata": {
      "needs_background": "light",
      "tags": []
     },
     "output_type": "display_data"
    },
    {
     "name": "stdout",
     "output_type": "stream",
     "text": [
      "Loss на обучающей выборке: 0.20537\n",
      "CPU times: user 1h 42min 12s, sys: 37min 50s, total: 2h 20min 3s\n",
      "Wall time: 2h 18min 56s\n"
     ]
    }
   ],
   "source": [
    "%%time\n",
    "loss_xlnet = train_model(xlnet_model, train_dataloader)"
   ]
  },
  {
   "cell_type": "code",
   "execution_count": null,
   "metadata": {
    "colab": {},
    "colab_type": "code",
    "id": "e67YSJpWjqaa"
   },
   "outputs": [],
   "source": [
    "model_save_name = 'XLNet-twitter-1epoch.net'\n",
    "path = f\"/content/gdrive/My Drive/{model_save_name}\"\n",
    "torch.save(xlnet_model.state_dict(), path)"
   ]
  },
  {
   "cell_type": "code",
   "execution_count": 14,
   "metadata": {
    "colab": {
     "base_uri": "https://localhost:8080/",
     "height": 34
    },
    "colab_type": "code",
    "executionInfo": {
     "elapsed": 7054,
     "status": "ok",
     "timestamp": 1592666200339,
     "user": {
      "displayName": "Виталий Цветков",
      "photoUrl": "https://lh3.googleusercontent.com/a-/AOh14GiIQfd3IzgVrpKUBUco_oznMQoxhNcthYkpbuyQJg=s64",
      "userId": "10199442936475267380"
     },
     "user_tz": -180
    },
    "id": "3_KpZfvcS44p",
    "outputId": "5d638995-a35c-466c-fa44-2f489d5bea9d"
   },
   "outputs": [
    {
     "data": {
      "text/plain": [
       "<All keys matched successfully>"
      ]
     },
     "execution_count": 14,
     "metadata": {
      "tags": []
     },
     "output_type": "execute_result"
    }
   ],
   "source": [
    "model_save_name = 'XLNet-twitter-1epoch.net'\n",
    "path = f\"/content/gdrive/My Drive/{model_save_name}\"\n",
    "xlnet_model.load_state_dict(torch.load(path))"
   ]
  },
  {
   "cell_type": "code",
   "execution_count": 15,
   "metadata": {
    "colab": {
     "base_uri": "https://localhost:8080/",
     "height": 68
    },
    "colab_type": "code",
    "executionInfo": {
     "elapsed": 76022,
     "status": "ok",
     "timestamp": 1592666276909,
     "user": {
      "displayName": "Виталий Цветков",
      "photoUrl": "https://lh3.googleusercontent.com/a-/AOh14GiIQfd3IzgVrpKUBUco_oznMQoxhNcthYkpbuyQJg=s64",
      "userId": "10199442936475267380"
     },
     "user_tz": -180
    },
    "id": "ZfsVeDu6jv85",
    "outputId": "36dc9707-90e6-4adf-fcb2-6b63a0677b23"
   },
   "outputs": [
    {
     "name": "stdout",
     "output_type": "stream",
     "text": [
      "Процент правильных предсказаний на валидационной выборке: 95.14%\n",
      "CPU times: user 59.6 s, sys: 18 s, total: 1min 17s\n",
      "Wall time: 1min 15s\n"
     ]
    }
   ],
   "source": [
    "%%time\n",
    "val_xlnet = val_model(xlnet_model, val_dataloader)"
   ]
  },
  {
   "cell_type": "code",
   "execution_count": 22,
   "metadata": {
    "colab": {},
    "colab_type": "code",
    "executionInfo": {
     "elapsed": 616,
     "status": "ok",
     "timestamp": 1592667719484,
     "user": {
      "displayName": "Виталий Цветков",
      "photoUrl": "https://lh3.googleusercontent.com/a-/AOh14GiIQfd3IzgVrpKUBUco_oznMQoxhNcthYkpbuyQJg=s64",
      "userId": "10199442936475267380"
     },
     "user_tz": -180
    },
    "id": "-R54583sUb4G"
   },
   "outputs": [],
   "source": [
    "from sklearn.metrics import recall_score, precision_score"
   ]
  },
  {
   "cell_type": "code",
   "execution_count": 27,
   "metadata": {
    "colab": {
     "base_uri": "https://localhost:8080/",
     "height": 102
    },
    "colab_type": "code",
    "executionInfo": {
     "elapsed": 302440,
     "status": "ok",
     "timestamp": 1592668456284,
     "user": {
      "displayName": "Виталий Цветков",
      "photoUrl": "https://lh3.googleusercontent.com/a-/AOh14GiIQfd3IzgVrpKUBUco_oznMQoxhNcthYkpbuyQJg=s64",
      "userId": "10199442936475267380"
     },
     "user_tz": -180
    },
    "id": "HlcgvZ48Y7as",
    "outputId": "ede37629-426f-47f4-b52c-b6fac1255c30"
   },
   "outputs": [
    {
     "name": "stdout",
     "output_type": "stream",
     "text": [
      "XLNet\n",
      "Процент правильных предсказаний на отложенной выборке составил: 95.28%\n",
      "1 эпоха: точность (precision) 91.45%, полнота (recall) 100.00%\n",
      "CPU times: user 3min 57s, sys: 1min 16s, total: 5min 14s\n",
      "Wall time: 5min 1s\n"
     ]
    }
   ],
   "source": [
    "%%time\n",
    "#качество на тесте\n",
    "print('XLNet')\n",
    "test_model(xlnet_model, pred_dataloader)"
   ]
  },
  {
   "cell_type": "code",
   "execution_count": 28,
   "metadata": {
    "colab": {
     "base_uri": "https://localhost:8080/",
     "height": 102
    },
    "colab_type": "code",
    "executionInfo": {
     "elapsed": 211746,
     "status": "ok",
     "timestamp": 1592668668110,
     "user": {
      "displayName": "Виталий Цветков",
      "photoUrl": "https://lh3.googleusercontent.com/a-/AOh14GiIQfd3IzgVrpKUBUco_oznMQoxhNcthYkpbuyQJg=s64",
      "userId": "10199442936475267380"
     },
     "user_tz": -180
    },
    "id": "bk4RJyRUa5I3",
    "outputId": "50427063-8e96-4cac-ee37-df66f43b4dc2"
   },
   "outputs": [
    {
     "name": "stdout",
     "output_type": "stream",
     "text": [
      "RoBERTa\n",
      "Процент правильных предсказаний на отложенной выборке составил: 95.99%\n",
      "1 эпоха: точность (precision) 92.65%, полнота (recall) 99.98%\n",
      "CPU times: user 2min 35s, sys: 55.2 s, total: 3min 30s\n",
      "Wall time: 3min 30s\n"
     ]
    }
   ],
   "source": [
    "%%time\n",
    "#качество на тесте\n",
    "print('RoBERTa')\n",
    "test_model(roberta_model, pred_dataloader)"
   ]
  },
  {
   "cell_type": "markdown",
   "metadata": {
    "colab_type": "text",
    "id": "4ne2gDZxSy1h"
   },
   "source": [
    "## Итог \n",
    "\n",
    "Здесь мы показали, что предобученный BERT может быстро (всего за одну эпоху) давать хорошее качество при решении задачи анализа эмоциональной окраски текстов. Обратите внимание, что мы не тюнили параметры и использовали сравнительно небольшой размеченный корпус, чтобы получить accuracy больше 98\\%. Тем не менее, если не делать дообучения под конкретную задачу вовсе, получить хорошее качество не удается.\n",
    "\n",
    "Кроме того, мы познакомились с библиотекой `transformers`, которая позволяет использовать готовые обертки над моделями, специально созданными для решения той или иной задачи. Использовать BERT при решении повседневных NLP задач совсем нетрудно: не нужно даже вручную скачивать веса модели, библиотека все сделает за вас. Отбросив необходимость чуть-чуть предобработать тексты, сложность применения предобученного BERT'а оказывается не сильно больше, чем импортировать и применить лог.регрессию из `sklearn`."
   ]
  }
 ],
 "metadata": {
  "accelerator": "GPU",
  "colab": {
   "collapsed_sections": [],
   "machine_shape": "hm",
   "name": "Copy of [hw]BERT_Fine_Tunning.ipynb",
   "provenance": [
    {
     "file_id": "1F5-HqmZazJvyikPkuGMD9gFfo3P9p1CH",
     "timestamp": 1591553216038
    }
   ],
   "toc_visible": true
  },
  "kernelspec": {
   "display_name": "Python 3",
   "language": "python",
   "name": "python3"
  },
  "language_info": {
   "codemirror_mode": {
    "name": "ipython",
    "version": 3
   },
   "file_extension": ".py",
   "mimetype": "text/x-python",
   "name": "python",
   "nbconvert_exporter": "python",
   "pygments_lexer": "ipython3",
   "version": "3.7.3"
  },
  "widgets": {
   "application/vnd.jupyter.widget-state+json": {
    "018aad64b9fe43108ba44c90e660f17d": {
     "model_module": "@jupyter-widgets/controls",
     "model_name": "FloatProgressModel",
     "state": {
      "_dom_classes": [],
      "_model_module": "@jupyter-widgets/controls",
      "_model_module_version": "1.5.0",
      "_model_name": "FloatProgressModel",
      "_view_count": null,
      "_view_module": "@jupyter-widgets/controls",
      "_view_module_version": "1.5.0",
      "_view_name": "ProgressView",
      "bar_style": "success",
      "description": "Downloading: 100%",
      "description_tooltip": null,
      "layout": "IPY_MODEL_3926de8ddd2548dd915666d60026e468",
      "max": 481,
      "min": 0,
      "orientation": "horizontal",
      "style": "IPY_MODEL_74d7712561e344698553f32b2aac0834",
      "value": 481
     }
    },
    "0c9ab7788e334a03b147cb36ac395986": {
     "model_module": "@jupyter-widgets/controls",
     "model_name": "HBoxModel",
     "state": {
      "_dom_classes": [],
      "_model_module": "@jupyter-widgets/controls",
      "_model_module_version": "1.5.0",
      "_model_name": "HBoxModel",
      "_view_count": null,
      "_view_module": "@jupyter-widgets/controls",
      "_view_module_version": "1.5.0",
      "_view_name": "HBoxView",
      "box_style": "",
      "children": [
       "IPY_MODEL_018aad64b9fe43108ba44c90e660f17d",
       "IPY_MODEL_7337a5995bf949e1a85ec42bef0e7a09"
      ],
      "layout": "IPY_MODEL_7910e07a16014eb1860172f1fe5d229e"
     }
    },
    "12ed45b83aea4f0ea8e83d2f61b0651b": {
     "model_module": "@jupyter-widgets/base",
     "model_name": "LayoutModel",
     "state": {
      "_model_module": "@jupyter-widgets/base",
      "_model_module_version": "1.2.0",
      "_model_name": "LayoutModel",
      "_view_count": null,
      "_view_module": "@jupyter-widgets/base",
      "_view_module_version": "1.2.0",
      "_view_name": "LayoutView",
      "align_content": null,
      "align_items": null,
      "align_self": null,
      "border": null,
      "bottom": null,
      "display": null,
      "flex": null,
      "flex_flow": null,
      "grid_area": null,
      "grid_auto_columns": null,
      "grid_auto_flow": null,
      "grid_auto_rows": null,
      "grid_column": null,
      "grid_gap": null,
      "grid_row": null,
      "grid_template_areas": null,
      "grid_template_columns": null,
      "grid_template_rows": null,
      "height": null,
      "justify_content": null,
      "justify_items": null,
      "left": null,
      "margin": null,
      "max_height": null,
      "max_width": null,
      "min_height": null,
      "min_width": null,
      "object_fit": null,
      "object_position": null,
      "order": null,
      "overflow": null,
      "overflow_x": null,
      "overflow_y": null,
      "padding": null,
      "right": null,
      "top": null,
      "visibility": null,
      "width": null
     }
    },
    "14ec253270e0485796c0c2cad2a0f6ac": {
     "model_module": "@jupyter-widgets/controls",
     "model_name": "DescriptionStyleModel",
     "state": {
      "_model_module": "@jupyter-widgets/controls",
      "_model_module_version": "1.5.0",
      "_model_name": "DescriptionStyleModel",
      "_view_count": null,
      "_view_module": "@jupyter-widgets/base",
      "_view_module_version": "1.2.0",
      "_view_name": "StyleView",
      "description_width": ""
     }
    },
    "178d9db536a44921a78bca82abd52119": {
     "model_module": "@jupyter-widgets/controls",
     "model_name": "HTMLModel",
     "state": {
      "_dom_classes": [],
      "_model_module": "@jupyter-widgets/controls",
      "_model_module_version": "1.5.0",
      "_model_name": "HTMLModel",
      "_view_count": null,
      "_view_module": "@jupyter-widgets/controls",
      "_view_module_version": "1.5.0",
      "_view_name": "HTMLView",
      "description": "",
      "description_tooltip": null,
      "layout": "IPY_MODEL_9283be84af81444a99c29189f7ffd665",
      "placeholder": "​",
      "style": "IPY_MODEL_42169dc992bc4dba9130d4bf941038a8",
      "value": " 232k/232k [00:40&lt;00:00, 5.74kB/s]"
     }
    },
    "25ded3d6c0394ffba1440486f460fa00": {
     "model_module": "@jupyter-widgets/controls",
     "model_name": "HTMLModel",
     "state": {
      "_dom_classes": [],
      "_model_module": "@jupyter-widgets/controls",
      "_model_module_version": "1.5.0",
      "_model_name": "HTMLModel",
      "_view_count": null,
      "_view_module": "@jupyter-widgets/controls",
      "_view_module_version": "1.5.0",
      "_view_name": "HTMLView",
      "description": "",
      "description_tooltip": null,
      "layout": "IPY_MODEL_12ed45b83aea4f0ea8e83d2f61b0651b",
      "placeholder": "​",
      "style": "IPY_MODEL_14ec253270e0485796c0c2cad2a0f6ac",
      "value": " 232k/232k [00:00&lt;00:00, 573kB/s]"
     }
    },
    "2fa23831195b4038aac897ebe9332b44": {
     "model_module": "@jupyter-widgets/controls",
     "model_name": "ProgressStyleModel",
     "state": {
      "_model_module": "@jupyter-widgets/controls",
      "_model_module_version": "1.5.0",
      "_model_name": "ProgressStyleModel",
      "_view_count": null,
      "_view_module": "@jupyter-widgets/base",
      "_view_module_version": "1.2.0",
      "_view_name": "StyleView",
      "bar_color": null,
      "description_width": "initial"
     }
    },
    "3926de8ddd2548dd915666d60026e468": {
     "model_module": "@jupyter-widgets/base",
     "model_name": "LayoutModel",
     "state": {
      "_model_module": "@jupyter-widgets/base",
      "_model_module_version": "1.2.0",
      "_model_name": "LayoutModel",
      "_view_count": null,
      "_view_module": "@jupyter-widgets/base",
      "_view_module_version": "1.2.0",
      "_view_name": "LayoutView",
      "align_content": null,
      "align_items": null,
      "align_self": null,
      "border": null,
      "bottom": null,
      "display": null,
      "flex": null,
      "flex_flow": null,
      "grid_area": null,
      "grid_auto_columns": null,
      "grid_auto_flow": null,
      "grid_auto_rows": null,
      "grid_column": null,
      "grid_gap": null,
      "grid_row": null,
      "grid_template_areas": null,
      "grid_template_columns": null,
      "grid_template_rows": null,
      "height": null,
      "justify_content": null,
      "justify_items": null,
      "left": null,
      "margin": null,
      "max_height": null,
      "max_width": null,
      "min_height": null,
      "min_width": null,
      "object_fit": null,
      "object_position": null,
      "order": null,
      "overflow": null,
      "overflow_x": null,
      "overflow_y": null,
      "padding": null,
      "right": null,
      "top": null,
      "visibility": null,
      "width": null
     }
    },
    "392947bdeccd4ab381d7d35ad0b13294": {
     "model_module": "@jupyter-widgets/controls",
     "model_name": "FloatProgressModel",
     "state": {
      "_dom_classes": [],
      "_model_module": "@jupyter-widgets/controls",
      "_model_module_version": "1.5.0",
      "_model_name": "FloatProgressModel",
      "_view_count": null,
      "_view_module": "@jupyter-widgets/controls",
      "_view_module_version": "1.5.0",
      "_view_name": "ProgressView",
      "bar_style": "success",
      "description": "Downloading: 100%",
      "description_tooltip": null,
      "layout": "IPY_MODEL_bd3f1ed734f045949f499fd71b1b9366",
      "max": 433,
      "min": 0,
      "orientation": "horizontal",
      "style": "IPY_MODEL_cfe55962c0444d3fb49a2ff30aa9f6d2",
      "value": 433
     }
    },
    "3f3cd0e312394eb3a70a5e9c61292067": {
     "model_module": "@jupyter-widgets/controls",
     "model_name": "HBoxModel",
     "state": {
      "_dom_classes": [],
      "_model_module": "@jupyter-widgets/controls",
      "_model_module_version": "1.5.0",
      "_model_name": "HBoxModel",
      "_view_count": null,
      "_view_module": "@jupyter-widgets/controls",
      "_view_module_version": "1.5.0",
      "_view_name": "HBoxView",
      "box_style": "",
      "children": [
       "IPY_MODEL_c0d00bfdef88445a9d51bd8de772e3cf",
       "IPY_MODEL_178d9db536a44921a78bca82abd52119"
      ],
      "layout": "IPY_MODEL_6688c4950d404a52b56ef0bf83273785"
     }
    },
    "3f81591bf9ff466592ed3bacd9651619": {
     "model_module": "@jupyter-widgets/base",
     "model_name": "LayoutModel",
     "state": {
      "_model_module": "@jupyter-widgets/base",
      "_model_module_version": "1.2.0",
      "_model_name": "LayoutModel",
      "_view_count": null,
      "_view_module": "@jupyter-widgets/base",
      "_view_module_version": "1.2.0",
      "_view_name": "LayoutView",
      "align_content": null,
      "align_items": null,
      "align_self": null,
      "border": null,
      "bottom": null,
      "display": null,
      "flex": null,
      "flex_flow": null,
      "grid_area": null,
      "grid_auto_columns": null,
      "grid_auto_flow": null,
      "grid_auto_rows": null,
      "grid_column": null,
      "grid_gap": null,
      "grid_row": null,
      "grid_template_areas": null,
      "grid_template_columns": null,
      "grid_template_rows": null,
      "height": null,
      "justify_content": null,
      "justify_items": null,
      "left": null,
      "margin": null,
      "max_height": null,
      "max_width": null,
      "min_height": null,
      "min_width": null,
      "object_fit": null,
      "object_position": null,
      "order": null,
      "overflow": null,
      "overflow_x": null,
      "overflow_y": null,
      "padding": null,
      "right": null,
      "top": null,
      "visibility": null,
      "width": null
     }
    },
    "42169dc992bc4dba9130d4bf941038a8": {
     "model_module": "@jupyter-widgets/controls",
     "model_name": "DescriptionStyleModel",
     "state": {
      "_model_module": "@jupyter-widgets/controls",
      "_model_module_version": "1.5.0",
      "_model_name": "DescriptionStyleModel",
      "_view_count": null,
      "_view_module": "@jupyter-widgets/base",
      "_view_module_version": "1.2.0",
      "_view_name": "StyleView",
      "description_width": ""
     }
    },
    "46d6dcdf196945b7a0f623e0b8e700b5": {
     "model_module": "@jupyter-widgets/controls",
     "model_name": "FloatProgressModel",
     "state": {
      "_dom_classes": [],
      "_model_module": "@jupyter-widgets/controls",
      "_model_module_version": "1.5.0",
      "_model_name": "FloatProgressModel",
      "_view_count": null,
      "_view_module": "@jupyter-widgets/controls",
      "_view_module_version": "1.5.0",
      "_view_name": "ProgressView",
      "bar_style": "success",
      "description": "Downloading: 100%",
      "description_tooltip": null,
      "layout": "IPY_MODEL_e95e1e0e443949eb8db3fcedbdde344a",
      "max": 501200538,
      "min": 0,
      "orientation": "horizontal",
      "style": "IPY_MODEL_47fea1db0e6f485f9f1d922139702b50",
      "value": 501200538
     }
    },
    "47fea1db0e6f485f9f1d922139702b50": {
     "model_module": "@jupyter-widgets/controls",
     "model_name": "ProgressStyleModel",
     "state": {
      "_model_module": "@jupyter-widgets/controls",
      "_model_module_version": "1.5.0",
      "_model_name": "ProgressStyleModel",
      "_view_count": null,
      "_view_module": "@jupyter-widgets/base",
      "_view_module_version": "1.2.0",
      "_view_name": "StyleView",
      "bar_color": null,
      "description_width": "initial"
     }
    },
    "49a4b4b939e04c109b881c23fbc8ce3a": {
     "model_module": "@jupyter-widgets/base",
     "model_name": "LayoutModel",
     "state": {
      "_model_module": "@jupyter-widgets/base",
      "_model_module_version": "1.2.0",
      "_model_name": "LayoutModel",
      "_view_count": null,
      "_view_module": "@jupyter-widgets/base",
      "_view_module_version": "1.2.0",
      "_view_name": "LayoutView",
      "align_content": null,
      "align_items": null,
      "align_self": null,
      "border": null,
      "bottom": null,
      "display": null,
      "flex": null,
      "flex_flow": null,
      "grid_area": null,
      "grid_auto_columns": null,
      "grid_auto_flow": null,
      "grid_auto_rows": null,
      "grid_column": null,
      "grid_gap": null,
      "grid_row": null,
      "grid_template_areas": null,
      "grid_template_columns": null,
      "grid_template_rows": null,
      "height": null,
      "justify_content": null,
      "justify_items": null,
      "left": null,
      "margin": null,
      "max_height": null,
      "max_width": null,
      "min_height": null,
      "min_width": null,
      "object_fit": null,
      "object_position": null,
      "order": null,
      "overflow": null,
      "overflow_x": null,
      "overflow_y": null,
      "padding": null,
      "right": null,
      "top": null,
      "visibility": null,
      "width": null
     }
    },
    "571124775f754533bde6a500c58d08f8": {
     "model_module": "@jupyter-widgets/controls",
     "model_name": "HTMLModel",
     "state": {
      "_dom_classes": [],
      "_model_module": "@jupyter-widgets/controls",
      "_model_module_version": "1.5.0",
      "_model_name": "HTMLModel",
      "_view_count": null,
      "_view_module": "@jupyter-widgets/controls",
      "_view_module_version": "1.5.0",
      "_view_name": "HTMLView",
      "description": "",
      "description_tooltip": null,
      "layout": "IPY_MODEL_91a8e64e4b024280a63a4790d84a29a4",
      "placeholder": "​",
      "style": "IPY_MODEL_c462b1f980c44f919477bb8e512bff59",
      "value": " 433/433 [00:12&lt;00:00, 35.6B/s]"
     }
    },
    "5a8e8e8633de44298d1d52d121f6a447": {
     "model_module": "@jupyter-widgets/base",
     "model_name": "LayoutModel",
     "state": {
      "_model_module": "@jupyter-widgets/base",
      "_model_module_version": "1.2.0",
      "_model_name": "LayoutModel",
      "_view_count": null,
      "_view_module": "@jupyter-widgets/base",
      "_view_module_version": "1.2.0",
      "_view_name": "LayoutView",
      "align_content": null,
      "align_items": null,
      "align_self": null,
      "border": null,
      "bottom": null,
      "display": null,
      "flex": null,
      "flex_flow": null,
      "grid_area": null,
      "grid_auto_columns": null,
      "grid_auto_flow": null,
      "grid_auto_rows": null,
      "grid_column": null,
      "grid_gap": null,
      "grid_row": null,
      "grid_template_areas": null,
      "grid_template_columns": null,
      "grid_template_rows": null,
      "height": null,
      "justify_content": null,
      "justify_items": null,
      "left": null,
      "margin": null,
      "max_height": null,
      "max_width": null,
      "min_height": null,
      "min_width": null,
      "object_fit": null,
      "object_position": null,
      "order": null,
      "overflow": null,
      "overflow_x": null,
      "overflow_y": null,
      "padding": null,
      "right": null,
      "top": null,
      "visibility": null,
      "width": null
     }
    },
    "5c188516679b40b88496ddfaa5944cc8": {
     "model_module": "@jupyter-widgets/controls",
     "model_name": "DescriptionStyleModel",
     "state": {
      "_model_module": "@jupyter-widgets/controls",
      "_model_module_version": "1.5.0",
      "_model_name": "DescriptionStyleModel",
      "_view_count": null,
      "_view_module": "@jupyter-widgets/base",
      "_view_module_version": "1.2.0",
      "_view_name": "StyleView",
      "description_width": ""
     }
    },
    "6265b60628e4421e9fb75695bfb9ed17": {
     "model_module": "@jupyter-widgets/base",
     "model_name": "LayoutModel",
     "state": {
      "_model_module": "@jupyter-widgets/base",
      "_model_module_version": "1.2.0",
      "_model_name": "LayoutModel",
      "_view_count": null,
      "_view_module": "@jupyter-widgets/base",
      "_view_module_version": "1.2.0",
      "_view_name": "LayoutView",
      "align_content": null,
      "align_items": null,
      "align_self": null,
      "border": null,
      "bottom": null,
      "display": null,
      "flex": null,
      "flex_flow": null,
      "grid_area": null,
      "grid_auto_columns": null,
      "grid_auto_flow": null,
      "grid_auto_rows": null,
      "grid_column": null,
      "grid_gap": null,
      "grid_row": null,
      "grid_template_areas": null,
      "grid_template_columns": null,
      "grid_template_rows": null,
      "height": null,
      "justify_content": null,
      "justify_items": null,
      "left": null,
      "margin": null,
      "max_height": null,
      "max_width": null,
      "min_height": null,
      "min_width": null,
      "object_fit": null,
      "object_position": null,
      "order": null,
      "overflow": null,
      "overflow_x": null,
      "overflow_y": null,
      "padding": null,
      "right": null,
      "top": null,
      "visibility": null,
      "width": null
     }
    },
    "6688c4950d404a52b56ef0bf83273785": {
     "model_module": "@jupyter-widgets/base",
     "model_name": "LayoutModel",
     "state": {
      "_model_module": "@jupyter-widgets/base",
      "_model_module_version": "1.2.0",
      "_model_name": "LayoutModel",
      "_view_count": null,
      "_view_module": "@jupyter-widgets/base",
      "_view_module_version": "1.2.0",
      "_view_name": "LayoutView",
      "align_content": null,
      "align_items": null,
      "align_self": null,
      "border": null,
      "bottom": null,
      "display": null,
      "flex": null,
      "flex_flow": null,
      "grid_area": null,
      "grid_auto_columns": null,
      "grid_auto_flow": null,
      "grid_auto_rows": null,
      "grid_column": null,
      "grid_gap": null,
      "grid_row": null,
      "grid_template_areas": null,
      "grid_template_columns": null,
      "grid_template_rows": null,
      "height": null,
      "justify_content": null,
      "justify_items": null,
      "left": null,
      "margin": null,
      "max_height": null,
      "max_width": null,
      "min_height": null,
      "min_width": null,
      "object_fit": null,
      "object_position": null,
      "order": null,
      "overflow": null,
      "overflow_x": null,
      "overflow_y": null,
      "padding": null,
      "right": null,
      "top": null,
      "visibility": null,
      "width": null
     }
    },
    "6b97bec2c083491094ad1165fe8f6308": {
     "model_module": "@jupyter-widgets/controls",
     "model_name": "ProgressStyleModel",
     "state": {
      "_model_module": "@jupyter-widgets/controls",
      "_model_module_version": "1.5.0",
      "_model_name": "ProgressStyleModel",
      "_view_count": null,
      "_view_module": "@jupyter-widgets/base",
      "_view_module_version": "1.2.0",
      "_view_name": "StyleView",
      "bar_color": null,
      "description_width": "initial"
     }
    },
    "7337a5995bf949e1a85ec42bef0e7a09": {
     "model_module": "@jupyter-widgets/controls",
     "model_name": "HTMLModel",
     "state": {
      "_dom_classes": [],
      "_model_module": "@jupyter-widgets/controls",
      "_model_module_version": "1.5.0",
      "_model_name": "HTMLModel",
      "_view_count": null,
      "_view_module": "@jupyter-widgets/controls",
      "_view_module_version": "1.5.0",
      "_view_name": "HTMLView",
      "description": "",
      "description_tooltip": null,
      "layout": "IPY_MODEL_8e2bf54776cf4ae0a68b11c91c65e509",
      "placeholder": "​",
      "style": "IPY_MODEL_fd936abc70ed42f7b5271a724da371f7",
      "value": " 481/481 [00:00&lt;00:00, 1.52kB/s]"
     }
    },
    "74d7712561e344698553f32b2aac0834": {
     "model_module": "@jupyter-widgets/controls",
     "model_name": "ProgressStyleModel",
     "state": {
      "_model_module": "@jupyter-widgets/controls",
      "_model_module_version": "1.5.0",
      "_model_name": "ProgressStyleModel",
      "_view_count": null,
      "_view_module": "@jupyter-widgets/base",
      "_view_module_version": "1.2.0",
      "_view_name": "StyleView",
      "bar_color": null,
      "description_width": "initial"
     }
    },
    "7910e07a16014eb1860172f1fe5d229e": {
     "model_module": "@jupyter-widgets/base",
     "model_name": "LayoutModel",
     "state": {
      "_model_module": "@jupyter-widgets/base",
      "_model_module_version": "1.2.0",
      "_model_name": "LayoutModel",
      "_view_count": null,
      "_view_module": "@jupyter-widgets/base",
      "_view_module_version": "1.2.0",
      "_view_name": "LayoutView",
      "align_content": null,
      "align_items": null,
      "align_self": null,
      "border": null,
      "bottom": null,
      "display": null,
      "flex": null,
      "flex_flow": null,
      "grid_area": null,
      "grid_auto_columns": null,
      "grid_auto_flow": null,
      "grid_auto_rows": null,
      "grid_column": null,
      "grid_gap": null,
      "grid_row": null,
      "grid_template_areas": null,
      "grid_template_columns": null,
      "grid_template_rows": null,
      "height": null,
      "justify_content": null,
      "justify_items": null,
      "left": null,
      "margin": null,
      "max_height": null,
      "max_width": null,
      "min_height": null,
      "min_width": null,
      "object_fit": null,
      "object_position": null,
      "order": null,
      "overflow": null,
      "overflow_x": null,
      "overflow_y": null,
      "padding": null,
      "right": null,
      "top": null,
      "visibility": null,
      "width": null
     }
    },
    "7a9d246f644d4f2099a4702bce7dc6cd": {
     "model_module": "@jupyter-widgets/controls",
     "model_name": "DescriptionStyleModel",
     "state": {
      "_model_module": "@jupyter-widgets/controls",
      "_model_module_version": "1.5.0",
      "_model_name": "DescriptionStyleModel",
      "_view_count": null,
      "_view_module": "@jupyter-widgets/base",
      "_view_module_version": "1.2.0",
      "_view_name": "StyleView",
      "description_width": ""
     }
    },
    "8112bb3b96d6429f82d2d0b47d698b78": {
     "model_module": "@jupyter-widgets/controls",
     "model_name": "HBoxModel",
     "state": {
      "_dom_classes": [],
      "_model_module": "@jupyter-widgets/controls",
      "_model_module_version": "1.5.0",
      "_model_name": "HBoxModel",
      "_view_count": null,
      "_view_module": "@jupyter-widgets/controls",
      "_view_module_version": "1.5.0",
      "_view_name": "HBoxView",
      "box_style": "",
      "children": [
       "IPY_MODEL_392947bdeccd4ab381d7d35ad0b13294",
       "IPY_MODEL_571124775f754533bde6a500c58d08f8"
      ],
      "layout": "IPY_MODEL_3f81591bf9ff466592ed3bacd9651619"
     }
    },
    "813ca36d83b5402598a11b41b21eb41d": {
     "model_module": "@jupyter-widgets/base",
     "model_name": "LayoutModel",
     "state": {
      "_model_module": "@jupyter-widgets/base",
      "_model_module_version": "1.2.0",
      "_model_name": "LayoutModel",
      "_view_count": null,
      "_view_module": "@jupyter-widgets/base",
      "_view_module_version": "1.2.0",
      "_view_name": "LayoutView",
      "align_content": null,
      "align_items": null,
      "align_self": null,
      "border": null,
      "bottom": null,
      "display": null,
      "flex": null,
      "flex_flow": null,
      "grid_area": null,
      "grid_auto_columns": null,
      "grid_auto_flow": null,
      "grid_auto_rows": null,
      "grid_column": null,
      "grid_gap": null,
      "grid_row": null,
      "grid_template_areas": null,
      "grid_template_columns": null,
      "grid_template_rows": null,
      "height": null,
      "justify_content": null,
      "justify_items": null,
      "left": null,
      "margin": null,
      "max_height": null,
      "max_width": null,
      "min_height": null,
      "min_width": null,
      "object_fit": null,
      "object_position": null,
      "order": null,
      "overflow": null,
      "overflow_x": null,
      "overflow_y": null,
      "padding": null,
      "right": null,
      "top": null,
      "visibility": null,
      "width": null
     }
    },
    "8e2bf54776cf4ae0a68b11c91c65e509": {
     "model_module": "@jupyter-widgets/base",
     "model_name": "LayoutModel",
     "state": {
      "_model_module": "@jupyter-widgets/base",
      "_model_module_version": "1.2.0",
      "_model_name": "LayoutModel",
      "_view_count": null,
      "_view_module": "@jupyter-widgets/base",
      "_view_module_version": "1.2.0",
      "_view_name": "LayoutView",
      "align_content": null,
      "align_items": null,
      "align_self": null,
      "border": null,
      "bottom": null,
      "display": null,
      "flex": null,
      "flex_flow": null,
      "grid_area": null,
      "grid_auto_columns": null,
      "grid_auto_flow": null,
      "grid_auto_rows": null,
      "grid_column": null,
      "grid_gap": null,
      "grid_row": null,
      "grid_template_areas": null,
      "grid_template_columns": null,
      "grid_template_rows": null,
      "height": null,
      "justify_content": null,
      "justify_items": null,
      "left": null,
      "margin": null,
      "max_height": null,
      "max_width": null,
      "min_height": null,
      "min_width": null,
      "object_fit": null,
      "object_position": null,
      "order": null,
      "overflow": null,
      "overflow_x": null,
      "overflow_y": null,
      "padding": null,
      "right": null,
      "top": null,
      "visibility": null,
      "width": null
     }
    },
    "91a8e64e4b024280a63a4790d84a29a4": {
     "model_module": "@jupyter-widgets/base",
     "model_name": "LayoutModel",
     "state": {
      "_model_module": "@jupyter-widgets/base",
      "_model_module_version": "1.2.0",
      "_model_name": "LayoutModel",
      "_view_count": null,
      "_view_module": "@jupyter-widgets/base",
      "_view_module_version": "1.2.0",
      "_view_name": "LayoutView",
      "align_content": null,
      "align_items": null,
      "align_self": null,
      "border": null,
      "bottom": null,
      "display": null,
      "flex": null,
      "flex_flow": null,
      "grid_area": null,
      "grid_auto_columns": null,
      "grid_auto_flow": null,
      "grid_auto_rows": null,
      "grid_column": null,
      "grid_gap": null,
      "grid_row": null,
      "grid_template_areas": null,
      "grid_template_columns": null,
      "grid_template_rows": null,
      "height": null,
      "justify_content": null,
      "justify_items": null,
      "left": null,
      "margin": null,
      "max_height": null,
      "max_width": null,
      "min_height": null,
      "min_width": null,
      "object_fit": null,
      "object_position": null,
      "order": null,
      "overflow": null,
      "overflow_x": null,
      "overflow_y": null,
      "padding": null,
      "right": null,
      "top": null,
      "visibility": null,
      "width": null
     }
    },
    "9283be84af81444a99c29189f7ffd665": {
     "model_module": "@jupyter-widgets/base",
     "model_name": "LayoutModel",
     "state": {
      "_model_module": "@jupyter-widgets/base",
      "_model_module_version": "1.2.0",
      "_model_name": "LayoutModel",
      "_view_count": null,
      "_view_module": "@jupyter-widgets/base",
      "_view_module_version": "1.2.0",
      "_view_name": "LayoutView",
      "align_content": null,
      "align_items": null,
      "align_self": null,
      "border": null,
      "bottom": null,
      "display": null,
      "flex": null,
      "flex_flow": null,
      "grid_area": null,
      "grid_auto_columns": null,
      "grid_auto_flow": null,
      "grid_auto_rows": null,
      "grid_column": null,
      "grid_gap": null,
      "grid_row": null,
      "grid_template_areas": null,
      "grid_template_columns": null,
      "grid_template_rows": null,
      "height": null,
      "justify_content": null,
      "justify_items": null,
      "left": null,
      "margin": null,
      "max_height": null,
      "max_width": null,
      "min_height": null,
      "min_width": null,
      "object_fit": null,
      "object_position": null,
      "order": null,
      "overflow": null,
      "overflow_x": null,
      "overflow_y": null,
      "padding": null,
      "right": null,
      "top": null,
      "visibility": null,
      "width": null
     }
    },
    "92938b456b5842c68bf26a8f22170c6a": {
     "model_module": "@jupyter-widgets/base",
     "model_name": "LayoutModel",
     "state": {
      "_model_module": "@jupyter-widgets/base",
      "_model_module_version": "1.2.0",
      "_model_name": "LayoutModel",
      "_view_count": null,
      "_view_module": "@jupyter-widgets/base",
      "_view_module_version": "1.2.0",
      "_view_name": "LayoutView",
      "align_content": null,
      "align_items": null,
      "align_self": null,
      "border": null,
      "bottom": null,
      "display": null,
      "flex": null,
      "flex_flow": null,
      "grid_area": null,
      "grid_auto_columns": null,
      "grid_auto_flow": null,
      "grid_auto_rows": null,
      "grid_column": null,
      "grid_gap": null,
      "grid_row": null,
      "grid_template_areas": null,
      "grid_template_columns": null,
      "grid_template_rows": null,
      "height": null,
      "justify_content": null,
      "justify_items": null,
      "left": null,
      "margin": null,
      "max_height": null,
      "max_width": null,
      "min_height": null,
      "min_width": null,
      "object_fit": null,
      "object_position": null,
      "order": null,
      "overflow": null,
      "overflow_x": null,
      "overflow_y": null,
      "padding": null,
      "right": null,
      "top": null,
      "visibility": null,
      "width": null
     }
    },
    "9332926eccd6441e878bb15f2ef92e6f": {
     "model_module": "@jupyter-widgets/controls",
     "model_name": "HBoxModel",
     "state": {
      "_dom_classes": [],
      "_model_module": "@jupyter-widgets/controls",
      "_model_module_version": "1.5.0",
      "_model_name": "HBoxModel",
      "_view_count": null,
      "_view_module": "@jupyter-widgets/controls",
      "_view_module_version": "1.5.0",
      "_view_name": "HBoxView",
      "box_style": "",
      "children": [
       "IPY_MODEL_46d6dcdf196945b7a0f623e0b8e700b5",
       "IPY_MODEL_cad1b66dae55450eb31b77b81b6096c3"
      ],
      "layout": "IPY_MODEL_813ca36d83b5402598a11b41b21eb41d"
     }
    },
    "a3aa5c52dae3455b899981278943a61e": {
     "model_module": "@jupyter-widgets/controls",
     "model_name": "HBoxModel",
     "state": {
      "_dom_classes": [],
      "_model_module": "@jupyter-widgets/controls",
      "_model_module_version": "1.5.0",
      "_model_name": "HBoxModel",
      "_view_count": null,
      "_view_module": "@jupyter-widgets/controls",
      "_view_module_version": "1.5.0",
      "_view_name": "HBoxView",
      "box_style": "",
      "children": [
       "IPY_MODEL_e1927ba4161b4178b428129b41b3ea2f",
       "IPY_MODEL_e1f4deacb8774d32bf971b0dd26a105d"
      ],
      "layout": "IPY_MODEL_49a4b4b939e04c109b881c23fbc8ce3a"
     }
    },
    "bd3f1ed734f045949f499fd71b1b9366": {
     "model_module": "@jupyter-widgets/base",
     "model_name": "LayoutModel",
     "state": {
      "_model_module": "@jupyter-widgets/base",
      "_model_module_version": "1.2.0",
      "_model_name": "LayoutModel",
      "_view_count": null,
      "_view_module": "@jupyter-widgets/base",
      "_view_module_version": "1.2.0",
      "_view_name": "LayoutView",
      "align_content": null,
      "align_items": null,
      "align_self": null,
      "border": null,
      "bottom": null,
      "display": null,
      "flex": null,
      "flex_flow": null,
      "grid_area": null,
      "grid_auto_columns": null,
      "grid_auto_flow": null,
      "grid_auto_rows": null,
      "grid_column": null,
      "grid_gap": null,
      "grid_row": null,
      "grid_template_areas": null,
      "grid_template_columns": null,
      "grid_template_rows": null,
      "height": null,
      "justify_content": null,
      "justify_items": null,
      "left": null,
      "margin": null,
      "max_height": null,
      "max_width": null,
      "min_height": null,
      "min_width": null,
      "object_fit": null,
      "object_position": null,
      "order": null,
      "overflow": null,
      "overflow_x": null,
      "overflow_y": null,
      "padding": null,
      "right": null,
      "top": null,
      "visibility": null,
      "width": null
     }
    },
    "be6a3e1bcd7d43bba02f5fe905774d58": {
     "model_module": "@jupyter-widgets/controls",
     "model_name": "HBoxModel",
     "state": {
      "_dom_classes": [],
      "_model_module": "@jupyter-widgets/controls",
      "_model_module_version": "1.5.0",
      "_model_name": "HBoxModel",
      "_view_count": null,
      "_view_module": "@jupyter-widgets/controls",
      "_view_module_version": "1.5.0",
      "_view_name": "HBoxView",
      "box_style": "",
      "children": [
       "IPY_MODEL_d85209a1c6974e52b01ee17ca8ebc34a",
       "IPY_MODEL_25ded3d6c0394ffba1440486f460fa00"
      ],
      "layout": "IPY_MODEL_5a8e8e8633de44298d1d52d121f6a447"
     }
    },
    "c0d00bfdef88445a9d51bd8de772e3cf": {
     "model_module": "@jupyter-widgets/controls",
     "model_name": "FloatProgressModel",
     "state": {
      "_dom_classes": [],
      "_model_module": "@jupyter-widgets/controls",
      "_model_module_version": "1.5.0",
      "_model_name": "FloatProgressModel",
      "_view_count": null,
      "_view_module": "@jupyter-widgets/controls",
      "_view_module_version": "1.5.0",
      "_view_name": "ProgressView",
      "bar_style": "success",
      "description": "Downloading: 100%",
      "description_tooltip": null,
      "layout": "IPY_MODEL_f80caa1e0c634b52a8ce477a5caef99b",
      "max": 231508,
      "min": 0,
      "orientation": "horizontal",
      "style": "IPY_MODEL_e5abbdd5d7b143b6813fcf4346f26cf5",
      "value": 231508
     }
    },
    "c462b1f980c44f919477bb8e512bff59": {
     "model_module": "@jupyter-widgets/controls",
     "model_name": "DescriptionStyleModel",
     "state": {
      "_model_module": "@jupyter-widgets/controls",
      "_model_module_version": "1.5.0",
      "_model_name": "DescriptionStyleModel",
      "_view_count": null,
      "_view_module": "@jupyter-widgets/base",
      "_view_module_version": "1.2.0",
      "_view_name": "StyleView",
      "description_width": ""
     }
    },
    "ca4d8704b81a497a87e2b0b02b9470bc": {
     "model_module": "@jupyter-widgets/base",
     "model_name": "LayoutModel",
     "state": {
      "_model_module": "@jupyter-widgets/base",
      "_model_module_version": "1.2.0",
      "_model_name": "LayoutModel",
      "_view_count": null,
      "_view_module": "@jupyter-widgets/base",
      "_view_module_version": "1.2.0",
      "_view_name": "LayoutView",
      "align_content": null,
      "align_items": null,
      "align_self": null,
      "border": null,
      "bottom": null,
      "display": null,
      "flex": null,
      "flex_flow": null,
      "grid_area": null,
      "grid_auto_columns": null,
      "grid_auto_flow": null,
      "grid_auto_rows": null,
      "grid_column": null,
      "grid_gap": null,
      "grid_row": null,
      "grid_template_areas": null,
      "grid_template_columns": null,
      "grid_template_rows": null,
      "height": null,
      "justify_content": null,
      "justify_items": null,
      "left": null,
      "margin": null,
      "max_height": null,
      "max_width": null,
      "min_height": null,
      "min_width": null,
      "object_fit": null,
      "object_position": null,
      "order": null,
      "overflow": null,
      "overflow_x": null,
      "overflow_y": null,
      "padding": null,
      "right": null,
      "top": null,
      "visibility": null,
      "width": null
     }
    },
    "cad1b66dae55450eb31b77b81b6096c3": {
     "model_module": "@jupyter-widgets/controls",
     "model_name": "HTMLModel",
     "state": {
      "_dom_classes": [],
      "_model_module": "@jupyter-widgets/controls",
      "_model_module_version": "1.5.0",
      "_model_name": "HTMLModel",
      "_view_count": null,
      "_view_module": "@jupyter-widgets/controls",
      "_view_module_version": "1.5.0",
      "_view_name": "HTMLView",
      "description": "",
      "description_tooltip": null,
      "layout": "IPY_MODEL_efa20b8ba7ef4b47868216b6bf81e7c9",
      "placeholder": "​",
      "style": "IPY_MODEL_7a9d246f644d4f2099a4702bce7dc6cd",
      "value": " 501M/501M [14:53&lt;00:00, 561kB/s]"
     }
    },
    "cfe55962c0444d3fb49a2ff30aa9f6d2": {
     "model_module": "@jupyter-widgets/controls",
     "model_name": "ProgressStyleModel",
     "state": {
      "_model_module": "@jupyter-widgets/controls",
      "_model_module_version": "1.5.0",
      "_model_name": "ProgressStyleModel",
      "_view_count": null,
      "_view_module": "@jupyter-widgets/base",
      "_view_module_version": "1.2.0",
      "_view_name": "StyleView",
      "bar_color": null,
      "description_width": "initial"
     }
    },
    "d85209a1c6974e52b01ee17ca8ebc34a": {
     "model_module": "@jupyter-widgets/controls",
     "model_name": "FloatProgressModel",
     "state": {
      "_dom_classes": [],
      "_model_module": "@jupyter-widgets/controls",
      "_model_module_version": "1.5.0",
      "_model_name": "FloatProgressModel",
      "_view_count": null,
      "_view_module": "@jupyter-widgets/controls",
      "_view_module_version": "1.5.0",
      "_view_name": "ProgressView",
      "bar_style": "success",
      "description": "Downloading: 100%",
      "description_tooltip": null,
      "layout": "IPY_MODEL_ca4d8704b81a497a87e2b0b02b9470bc",
      "max": 231508,
      "min": 0,
      "orientation": "horizontal",
      "style": "IPY_MODEL_2fa23831195b4038aac897ebe9332b44",
      "value": 231508
     }
    },
    "e1927ba4161b4178b428129b41b3ea2f": {
     "model_module": "@jupyter-widgets/controls",
     "model_name": "FloatProgressModel",
     "state": {
      "_dom_classes": [],
      "_model_module": "@jupyter-widgets/controls",
      "_model_module_version": "1.5.0",
      "_model_name": "FloatProgressModel",
      "_view_count": null,
      "_view_module": "@jupyter-widgets/controls",
      "_view_module_version": "1.5.0",
      "_view_name": "ProgressView",
      "bar_style": "success",
      "description": "Downloading: 100%",
      "description_tooltip": null,
      "layout": "IPY_MODEL_6265b60628e4421e9fb75695bfb9ed17",
      "max": 440473133,
      "min": 0,
      "orientation": "horizontal",
      "style": "IPY_MODEL_6b97bec2c083491094ad1165fe8f6308",
      "value": 440473133
     }
    },
    "e1f4deacb8774d32bf971b0dd26a105d": {
     "model_module": "@jupyter-widgets/controls",
     "model_name": "HTMLModel",
     "state": {
      "_dom_classes": [],
      "_model_module": "@jupyter-widgets/controls",
      "_model_module_version": "1.5.0",
      "_model_name": "HTMLModel",
      "_view_count": null,
      "_view_module": "@jupyter-widgets/controls",
      "_view_module_version": "1.5.0",
      "_view_name": "HTMLView",
      "description": "",
      "description_tooltip": null,
      "layout": "IPY_MODEL_92938b456b5842c68bf26a8f22170c6a",
      "placeholder": "​",
      "style": "IPY_MODEL_5c188516679b40b88496ddfaa5944cc8",
      "value": " 440M/440M [00:08&lt;00:00, 51.7MB/s]"
     }
    },
    "e5abbdd5d7b143b6813fcf4346f26cf5": {
     "model_module": "@jupyter-widgets/controls",
     "model_name": "ProgressStyleModel",
     "state": {
      "_model_module": "@jupyter-widgets/controls",
      "_model_module_version": "1.5.0",
      "_model_name": "ProgressStyleModel",
      "_view_count": null,
      "_view_module": "@jupyter-widgets/base",
      "_view_module_version": "1.2.0",
      "_view_name": "StyleView",
      "bar_color": null,
      "description_width": "initial"
     }
    },
    "e95e1e0e443949eb8db3fcedbdde344a": {
     "model_module": "@jupyter-widgets/base",
     "model_name": "LayoutModel",
     "state": {
      "_model_module": "@jupyter-widgets/base",
      "_model_module_version": "1.2.0",
      "_model_name": "LayoutModel",
      "_view_count": null,
      "_view_module": "@jupyter-widgets/base",
      "_view_module_version": "1.2.0",
      "_view_name": "LayoutView",
      "align_content": null,
      "align_items": null,
      "align_self": null,
      "border": null,
      "bottom": null,
      "display": null,
      "flex": null,
      "flex_flow": null,
      "grid_area": null,
      "grid_auto_columns": null,
      "grid_auto_flow": null,
      "grid_auto_rows": null,
      "grid_column": null,
      "grid_gap": null,
      "grid_row": null,
      "grid_template_areas": null,
      "grid_template_columns": null,
      "grid_template_rows": null,
      "height": null,
      "justify_content": null,
      "justify_items": null,
      "left": null,
      "margin": null,
      "max_height": null,
      "max_width": null,
      "min_height": null,
      "min_width": null,
      "object_fit": null,
      "object_position": null,
      "order": null,
      "overflow": null,
      "overflow_x": null,
      "overflow_y": null,
      "padding": null,
      "right": null,
      "top": null,
      "visibility": null,
      "width": null
     }
    },
    "efa20b8ba7ef4b47868216b6bf81e7c9": {
     "model_module": "@jupyter-widgets/base",
     "model_name": "LayoutModel",
     "state": {
      "_model_module": "@jupyter-widgets/base",
      "_model_module_version": "1.2.0",
      "_model_name": "LayoutModel",
      "_view_count": null,
      "_view_module": "@jupyter-widgets/base",
      "_view_module_version": "1.2.0",
      "_view_name": "LayoutView",
      "align_content": null,
      "align_items": null,
      "align_self": null,
      "border": null,
      "bottom": null,
      "display": null,
      "flex": null,
      "flex_flow": null,
      "grid_area": null,
      "grid_auto_columns": null,
      "grid_auto_flow": null,
      "grid_auto_rows": null,
      "grid_column": null,
      "grid_gap": null,
      "grid_row": null,
      "grid_template_areas": null,
      "grid_template_columns": null,
      "grid_template_rows": null,
      "height": null,
      "justify_content": null,
      "justify_items": null,
      "left": null,
      "margin": null,
      "max_height": null,
      "max_width": null,
      "min_height": null,
      "min_width": null,
      "object_fit": null,
      "object_position": null,
      "order": null,
      "overflow": null,
      "overflow_x": null,
      "overflow_y": null,
      "padding": null,
      "right": null,
      "top": null,
      "visibility": null,
      "width": null
     }
    },
    "f80caa1e0c634b52a8ce477a5caef99b": {
     "model_module": "@jupyter-widgets/base",
     "model_name": "LayoutModel",
     "state": {
      "_model_module": "@jupyter-widgets/base",
      "_model_module_version": "1.2.0",
      "_model_name": "LayoutModel",
      "_view_count": null,
      "_view_module": "@jupyter-widgets/base",
      "_view_module_version": "1.2.0",
      "_view_name": "LayoutView",
      "align_content": null,
      "align_items": null,
      "align_self": null,
      "border": null,
      "bottom": null,
      "display": null,
      "flex": null,
      "flex_flow": null,
      "grid_area": null,
      "grid_auto_columns": null,
      "grid_auto_flow": null,
      "grid_auto_rows": null,
      "grid_column": null,
      "grid_gap": null,
      "grid_row": null,
      "grid_template_areas": null,
      "grid_template_columns": null,
      "grid_template_rows": null,
      "height": null,
      "justify_content": null,
      "justify_items": null,
      "left": null,
      "margin": null,
      "max_height": null,
      "max_width": null,
      "min_height": null,
      "min_width": null,
      "object_fit": null,
      "object_position": null,
      "order": null,
      "overflow": null,
      "overflow_x": null,
      "overflow_y": null,
      "padding": null,
      "right": null,
      "top": null,
      "visibility": null,
      "width": null
     }
    },
    "fd936abc70ed42f7b5271a724da371f7": {
     "model_module": "@jupyter-widgets/controls",
     "model_name": "DescriptionStyleModel",
     "state": {
      "_model_module": "@jupyter-widgets/controls",
      "_model_module_version": "1.5.0",
      "_model_name": "DescriptionStyleModel",
      "_view_count": null,
      "_view_module": "@jupyter-widgets/base",
      "_view_module_version": "1.2.0",
      "_view_name": "StyleView",
      "description_width": ""
     }
    }
   }
  }
 },
 "nbformat": 4,
 "nbformat_minor": 1
}
