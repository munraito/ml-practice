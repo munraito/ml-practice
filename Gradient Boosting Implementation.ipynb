{
 "cells": [
  {
   "cell_type": "markdown",
   "metadata": {
    "colab_type": "text",
    "id": "FifbESTWwlGg"
   },
   "source": [
    "## Gradient boosting from scratch\n"
   ]
  },
  {
   "cell_type": "code",
   "execution_count": 0,
   "metadata": {
    "colab": {},
    "colab_type": "code",
    "id": "0dGxaAaUwlGi"
   },
   "outputs": [],
   "source": [
    "import pandas as pd\n",
    "import numpy as np\n",
    "import sklearn\n",
    "from sklearn.model_selection import train_test_split\n",
    "from sklearn.model_selection import cross_val_score\n",
    "from sklearn import metrics\n",
    "from sklearn.base import BaseEstimator, ClassifierMixin\n",
    "from sklearn import tree\n",
    "from scipy import optimize\n",
    "\n",
    "import matplotlib.pyplot as plt\n",
    "%matplotlib inline"
   ]
  },
  {
   "cell_type": "markdown",
   "metadata": {
    "colab_type": "text",
    "id": "3qqB5xziwlGm"
   },
   "source": [
    "Let's generate a toy dataset for classification."
   ]
  },
  {
   "cell_type": "code",
   "execution_count": 0,
   "metadata": {
    "colab": {},
    "colab_type": "code",
    "id": "yRbJYsV9wlGn"
   },
   "outputs": [],
   "source": [
    "from sklearn.datasets import make_moons\n",
    "from sklearn.model_selection import train_test_split\n",
    "\n",
    "X, y = make_moons(n_samples=500, shuffle=True, noise=0.15, random_state=1011)\n",
    "X_train, X_test, y_train, y_test = train_test_split(X, y, test_size=0.4, random_state=1011)"
   ]
  },
  {
   "cell_type": "markdown",
   "metadata": {
    "colab_type": "text",
    "id": "7AHueuMjs2Ko"
   },
   "source": [
    "## Gradient Boosting Classifier"
   ]
  },
  {
   "cell_type": "code",
   "execution_count": 0,
   "metadata": {
    "colab": {},
    "colab_type": "code",
    "id": "uwMXl8klwlGr"
   },
   "outputs": [],
   "source": [
    "class GradientBoostingClf(BaseEstimator, ClassifierMixin):\n",
    "    def sigma(self, z):\n",
    "      z = z.reshape([z.shape[0], 1])\n",
    "      z[z > 100] = 100\n",
    "      z[z < -100] = -100\n",
    "      return 1. / (1 + np.exp(-z))\n",
    "\n",
    "    def logloss(self, y, p):\n",
    "      return metrics.log_loss(y, p, normalize=False)\n",
    "\n",
    "    def dlogloss(self, y, p):\n",
    "      y = y.reshape([y.shape[0], 1])\n",
    "      p = p.reshape([p.shape[0], 1])\n",
    "      p[p < 1e-5] = 1e-5\n",
    "      p[p > 1 - 1e-5] = 1 - 1e-5\n",
    "      return (p - y) / p / (1 - p)\n",
    "\n",
    "             \n",
    "    def __init__(self, N_estimators = 10, max_depth = 2, learning_rate = 0.01, random_state=1337, debug=False):\n",
    "        self.N_estimators = N_estimators\n",
    "        self.max_depth = max_depth\n",
    "        self.random_state = random_state\n",
    "        self.learning_rate = learning_rate\n",
    "        self.models = []\n",
    "        self.grad_loss = self.dlogloss\n",
    "        self.loss = self.logloss\n",
    "        self.debug = debug\n",
    "\n",
    "    def fit(self, X, y):\n",
    "        self.X = X\n",
    "        self.y = y\n",
    "        #initialize with starting values (all means)\n",
    "        y_i = np.mean(y) * np.ones([y.shape[0], 1]) \n",
    "        preds = y_i.copy()\n",
    "        #iteratively build estimators\n",
    "        for t in range(self.N_estimators):\n",
    "          #compute residual from previous prediction (anti gradient)\n",
    "          \n",
    "          resid = - self.grad_loss(y, preds)\n",
    "          #print ('Residuals on {} iter: {}'.format(t, resid))\n",
    "\n",
    "          #fit estimator (regression tree) on residuals & predict\n",
    "          regr_tree = tree.DecisionTreeRegressor(max_depth=self.max_depth, random_state=self.random_state)\n",
    "          regr_tree.fit(X, resid)\n",
    "          y_i = regr_tree.predict(X).reshape([X.shape[0], 1])\n",
    "          #print ('Predict on {} iter: {}'.format(t, y_i))\n",
    "          \n",
    "          #save model\n",
    "          self.models.append(regr_tree)\n",
    "          preds += self.learning_rate * y_i\n",
    "          #compute loss to see progress\n",
    "          if self.debug == True:\n",
    "            print ('Loss on {} iter: {}'.format(t, self.loss(y, preds)))\n",
    "        #save train predictions\n",
    "        self.train_pred = preds\n",
    "        self.train_pred = self.sigma(self.train_pred)\n",
    "        return self\n",
    "\n",
    "    def predict_proba(self, X):\n",
    "        #initialize with starting values (all means)\n",
    "        preds = np.mean(y) * np.ones([X.shape[0], 1])\n",
    "        #iteratively add predicts of every model from train phase\n",
    "        for t in range(self.N_estimators):\n",
    "          preds += preds * self.models[t].predict(X).reshape([X.shape[0], 1])\n",
    "        return self.sigma(preds)\n",
    "        #return preds\n",
    "    \n",
    "    def predict(self, X):\n",
    "      pred_probs = self.predict_proba(X)\n",
    "      max_accuracy = 0 \n",
    "      best_thres = 0\n",
    "      for thres in np.linspace(0.01, 1.01, 100):\n",
    "          acc = metrics.accuracy_score(self.y, self.train_pred > thres)\n",
    "          if acc > max_accuracy:\n",
    "              max_accuracy = acc\n",
    "              best_thres = thres\n",
    "      print ('Best threshold:', best_thres)\n",
    "      return pred_probs > best_thres\n",
    "\n",
    "# clf = GradientBoostingClf()\n",
    "# clf.fit(X_train, y_train)\n",
    "# clf.predict_proba(X_test)"
   ]
  },
  {
   "cell_type": "markdown",
   "metadata": {
    "colab_type": "text",
    "id": "PDH8ITMHs-Bz"
   },
   "source": [
    "### Cross validate to get accuracy score"
   ]
  },
  {
   "cell_type": "code",
   "execution_count": 0,
   "metadata": {
    "colab": {
     "base_uri": "https://localhost:8080/",
     "height": 1000
    },
    "colab_type": "code",
    "executionInfo": {
     "elapsed": 1478,
     "status": "ok",
     "timestamp": 1590263098576,
     "user": {
      "displayName": "Виталий Цветков",
      "photoUrl": "https://lh3.googleusercontent.com/a-/AOh14GiIQfd3IzgVrpKUBUco_oznMQoxhNcthYkpbuyQJg=s64",
      "userId": "10199442936475267380"
     },
     "user_tz": -180
    },
    "id": "Uugk1qsl_s8n",
    "outputId": "0a434b31-8d35-4097-ef6b-35d271e8289e"
   },
   "outputs": [
    {
     "name": "stdout",
     "output_type": "stream",
     "text": [
      "Loss on 0 iter: 219.28120536822328\n",
      "Loss on 1 iter: 177.5919951320061\n",
      "Loss on 2 iter: 145.52635829023023\n",
      "Loss on 3 iter: 118.21085257151658\n",
      "Loss on 4 iter: 95.3457502090602\n",
      "Loss on 5 iter: 75.06210226402382\n",
      "Loss on 6 iter: 57.48468812154536\n",
      "Loss on 7 iter: 43.41266157523591\n",
      "Loss on 8 iter: 35.887375962631054\n",
      "Loss on 9 iter: 31.07842574892799\n",
      "Loss on 10 iter: 27.42379544411449\n",
      "Loss on 11 iter: 24.417013972135923\n",
      "Loss on 12 iter: 22.22758689946444\n",
      "Loss on 13 iter: 20.31557278715243\n",
      "Loss on 14 iter: 20.55156213242116\n",
      "Loss on 15 iter: 20.622210552447072\n",
      "Loss on 16 iter: 20.7168561516648\n",
      "Loss on 17 iter: 19.12963426761292\n",
      "Loss on 18 iter: 19.178229896194864\n",
      "Loss on 19 iter: 19.27025752355899\n",
      "Best threshold: 0.6362626262626263\n",
      "Loss on 0 iter: 222.23933830678834\n",
      "Loss on 1 iter: 182.6395782011282\n",
      "Loss on 2 iter: 151.2687132027449\n",
      "Loss on 3 iter: 125.90137511737831\n",
      "Loss on 4 iter: 103.67204216645301\n",
      "Loss on 5 iter: 83.75437456132457\n",
      "Loss on 6 iter: 67.50422029314696\n",
      "Loss on 7 iter: 52.622086487345285\n",
      "Loss on 8 iter: 43.64618892381397\n",
      "Loss on 9 iter: 39.43305703522519\n",
      "Loss on 10 iter: 30.109729433606375\n",
      "Loss on 11 iter: 27.741790672943036\n",
      "Loss on 12 iter: 26.106931886958876\n",
      "Loss on 13 iter: 23.86075166081625\n",
      "Loss on 14 iter: 22.525111104616485\n",
      "Loss on 15 iter: 22.840561685960097\n",
      "Loss on 16 iter: 23.284208021226725\n",
      "Loss on 17 iter: 21.577127038438583\n",
      "Loss on 18 iter: 20.39851288688418\n",
      "Loss on 19 iter: 20.856413000322682\n",
      "Best threshold: 0.605959595959596\n",
      "Loss on 0 iter: 219.1979297350132\n",
      "Loss on 1 iter: 178.25983064402664\n",
      "Loss on 2 iter: 146.93720216199603\n",
      "Loss on 3 iter: 121.83661106541138\n",
      "Loss on 4 iter: 101.12295540415165\n",
      "Loss on 5 iter: 82.41926654139155\n",
      "Loss on 6 iter: 64.05941249154895\n",
      "Loss on 7 iter: 50.67720828038162\n",
      "Loss on 8 iter: 43.88576905415778\n",
      "Loss on 9 iter: 36.477488663945074\n",
      "Loss on 10 iter: 31.352272494381154\n",
      "Loss on 11 iter: 27.92279779143097\n",
      "Loss on 12 iter: 25.57665319274548\n",
      "Loss on 13 iter: 24.15540244857563\n",
      "Loss on 14 iter: 24.643947831819855\n",
      "Loss on 15 iter: 23.552381137334063\n",
      "Loss on 16 iter: 24.108567949416866\n",
      "Loss on 17 iter: 24.86991069163041\n",
      "Loss on 18 iter: 24.30558585237965\n",
      "Loss on 19 iter: 23.437062834578576\n",
      "Best threshold: 0.5150505050505051\n",
      "Loss on 0 iter: 221.12012092225388\n",
      "Loss on 1 iter: 181.4166255510879\n",
      "Loss on 2 iter: 150.9492476246519\n",
      "Loss on 3 iter: 125.54221108237398\n",
      "Loss on 4 iter: 104.2858191338304\n",
      "Loss on 5 iter: 83.10571608433682\n",
      "Loss on 6 iter: 65.93570324724135\n",
      "Loss on 7 iter: 55.06107677899492\n",
      "Loss on 8 iter: 45.75777099168095\n",
      "Loss on 9 iter: 40.92242360330741\n",
      "Loss on 10 iter: 36.044309874607215\n",
      "Loss on 11 iter: 32.30271482701269\n",
      "Loss on 12 iter: 28.133095105480322\n",
      "Loss on 13 iter: 26.585145039323123\n",
      "Loss on 14 iter: 27.06281069859351\n",
      "Loss on 15 iter: 25.032011039563898\n",
      "Loss on 16 iter: 23.925293358276797\n",
      "Loss on 17 iter: 24.510474498389677\n",
      "Loss on 18 iter: 24.045507213207205\n",
      "Loss on 19 iter: 24.700983142273294\n",
      "Best threshold: 0.6261616161616163\n",
      "Loss on 0 iter: 222.45453014940398\n",
      "Loss on 1 iter: 183.69686401081177\n",
      "Loss on 2 iter: 153.03942895960435\n",
      "Loss on 3 iter: 126.959862267817\n",
      "Loss on 4 iter: 105.78082307824738\n",
      "Loss on 5 iter: 86.02362914331258\n",
      "Loss on 6 iter: 69.70891650861749\n",
      "Loss on 7 iter: 54.20890707103049\n",
      "Loss on 8 iter: 45.091630395999886\n",
      "Loss on 9 iter: 41.763568482959606\n",
      "Loss on 10 iter: 39.398273652811824\n",
      "Loss on 11 iter: 31.77830248520585\n",
      "Loss on 12 iter: 29.28633015938564\n",
      "Loss on 13 iter: 27.41760977538413\n",
      "Loss on 14 iter: 24.398095842575316\n",
      "Loss on 15 iter: 23.12909323970101\n",
      "Loss on 16 iter: 21.127882229129597\n",
      "Loss on 17 iter: 21.514608006006704\n",
      "Loss on 18 iter: 20.661219797268195\n",
      "Loss on 19 iter: 21.06361027773635\n",
      "Best threshold: 0.6665656565656566\n",
      "[0.93 0.98 0.91 0.93 0.96] Mean: 0.9420000000000002\n"
     ]
    }
   ],
   "source": [
    "clf = GradientBoostingClf(N_estimators=20, learning_rate=0.05, max_depth=3, debug=True) #N_estimators=30, learning_rate=0.01\n",
    "scores = cross_val_score(clf, X, y, scoring='accuracy', error_score = 'raise')\n",
    "print (scores, 'Mean:', np.mean(scores))"
   ]
  },
  {
   "cell_type": "markdown",
   "metadata": {
    "colab_type": "text",
    "id": "Q9w_hQ0ntLos"
   },
   "source": [
    "## Decision Regions Plot"
   ]
  },
  {
   "cell_type": "code",
   "execution_count": 0,
   "metadata": {
    "colab": {
     "base_uri": "https://localhost:8080/",
     "height": 656
    },
    "colab_type": "code",
    "executionInfo": {
     "elapsed": 1676,
     "status": "ok",
     "timestamp": 1590263099025,
     "user": {
      "displayName": "Виталий Цветков",
      "photoUrl": "https://lh3.googleusercontent.com/a-/AOh14GiIQfd3IzgVrpKUBUco_oznMQoxhNcthYkpbuyQJg=s64",
      "userId": "10199442936475267380"
     },
     "user_tz": -180
    },
    "id": "T1__fux4wlGv",
    "outputId": "35ed7300-402c-4855-c127-03f481897a14"
   },
   "outputs": [
    {
     "name": "stdout",
     "output_type": "stream",
     "text": [
      "Loss on 0 iter: 163.64784958803085\n",
      "Loss on 1 iter: 132.80478316434917\n",
      "Loss on 2 iter: 108.36908242995489\n",
      "Loss on 3 iter: 88.43244704698576\n",
      "Loss on 4 iter: 72.05292692487397\n",
      "Loss on 5 iter: 57.41642349208384\n",
      "Loss on 6 iter: 43.967112536370244\n",
      "Loss on 7 iter: 37.06043608565426\n",
      "Loss on 8 iter: 28.60896339942115\n",
      "Loss on 9 iter: 25.963707835122996\n",
      "Loss on 10 iter: 23.945329791844877\n",
      "Loss on 11 iter: 22.70830402087987\n",
      "Loss on 12 iter: 22.73264496176192\n",
      "Loss on 13 iter: 22.92646232962808\n",
      "Loss on 14 iter: 19.77404687012149\n",
      "Loss on 15 iter: 19.858884000833726\n",
      "Loss on 16 iter: 20.029106005075175\n",
      "Loss on 17 iter: 20.06249627607835\n",
      "Loss on 18 iter: 20.227783318721198\n",
      "Loss on 19 iter: 20.38861061724917\n",
      "Best threshold: 0.6665656565656566\n"
     ]
    },
    {
     "name": "stderr",
     "output_type": "stream",
     "text": [
      "/usr/local/lib/python3.6/dist-packages/mlxtend/plotting/decision_regions.py:244: MatplotlibDeprecationWarning: Passing unsupported keyword arguments to axis() will raise a TypeError in 3.3.\n",
      "  ax.axis(xmin=xx.min(), xmax=xx.max(), y_min=yy.min(), y_max=yy.max())\n"
     ]
    },
    {
     "data": {
      "image/png": "[encoded data removed]",
      "text/plain": [
       "<Figure size 432x288 with 1 Axes>"
      ]
     },
     "metadata": {
      "needs_background": "light",
      "tags": []
     },
     "output_type": "display_data"
    }
   ],
   "source": [
    "from mlxtend.plotting import plot_decision_regions\n",
    "# 0 means 1 due to issue in mlextend\n",
    "clf.fit(X_train, y_train)\n",
    "plot_decision_regions(X_test, y_test, clf=clf)\n",
    "plt.show()"
   ]
  },
  {
   "cell_type": "code",
   "execution_count": 0,
   "metadata": {
    "colab": {},
    "colab_type": "code",
    "id": "DxtRNTrj_8On"
   },
   "outputs": [],
   "source": []
  }
 ],
 "metadata": {
  "colab": {
   "collapsed_sections": [],
   "name": "Copy of [hw]GradientBoostingTask1.ipynb",
   "provenance": [
    {
     "file_id": "1Ol9zAL18Ctl0B1hvUpc8tgkbpEbTDoTK",
     "timestamp": 1590140503207
    }
   ]
  },
  "kernelspec": {
   "display_name": "Python 3",
   "language": "python",
   "name": "python3"
  },
  "language_info": {
   "codemirror_mode": {
    "name": "ipython",
    "version": 3
   },
   "file_extension": ".py",
   "mimetype": "text/x-python",
   "name": "python",
   "nbconvert_exporter": "python",
   "pygments_lexer": "ipython3",
   "version": "3.7.3"
  }
 },
 "nbformat": 4,
 "nbformat_minor": 1
}
